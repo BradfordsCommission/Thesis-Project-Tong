{
 "cells": [
  {
   "cell_type": "code",
   "execution_count": 1,
   "id": "handy-hello",
   "metadata": {
    "scrolled": true
   },
   "outputs": [
    {
     "name": "stdout",
     "output_type": "stream",
     "text": [
      "Requirement already satisfied: biopython in c:\\users\\robert\\appdata\\local\\packages\\pythonsoftwarefoundation.python.3.9_qbz5n2kfra8p0\\localcache\\local-packages\\python39\\site-packages (1.78)\n",
      "Requirement already satisfied: numpy in c:\\users\\robert\\appdata\\local\\packages\\pythonsoftwarefoundation.python.3.9_qbz5n2kfra8p0\\localcache\\local-packages\\python39\\site-packages (from biopython) (1.20.1)\n"
     ]
    }
   ],
   "source": [
    "!pip install biopython"
   ]
  },
  {
   "cell_type": "code",
   "execution_count": 2,
   "id": "arbitrary-nursery",
   "metadata": {},
   "outputs": [],
   "source": [
    "#Bring in the required packs to begin working\n",
    "import os\n",
    "import sys\n",
    "import requests\n",
    "from Bio import pairwise2\n",
    "from Bio import SeqIO\n",
    "from Bio.Align import substitution_matrices"
   ]
  },
  {
   "cell_type": "code",
   "execution_count": 3,
   "id": "chronic-heather",
   "metadata": {},
   "outputs": [
    {
     "name": "stdout",
     "output_type": "stream",
     "text": [
      "Please enter the url of the first protein to be aligned: https://www.uniprot.org/uniprot/P69905.fasta\n",
      "Please enter the url of the second protein to be aligned: https://www.uniprot.org/uniprot/P02088.fasta\n"
     ]
    }
   ],
   "source": [
    "#get the two protein sequences of interest via text boxes\n",
    "text_box1 = str(input(\"Please enter the url of the first protein to be aligned: \"))\n",
    "\n",
    "text_box2 = str(input(\"Please enter the url of the second protein to be aligned: \"))\n"
   ]
  },
  {
   "cell_type": "code",
   "execution_count": 4,
   "id": "transsexual-mirror",
   "metadata": {},
   "outputs": [
    {
     "data": {
      "text/plain": [
       "243"
      ]
     },
     "execution_count": 4,
     "metadata": {},
     "output_type": "execute_result"
    }
   ],
   "source": [
    "url1 = requests.get(text_box1)\n",
    "open(\"protein_sequence1.fasta\", \"wb\").write(url1.content)\n",
    "\n",
    "url2 = requests.get(text_box2)\n",
    "open(\"protein_sequence2.fasta\", \"wb\").write(url2.content)"
   ]
  },
  {
   "cell_type": "code",
   "execution_count": 5,
   "id": "blessed-adult",
   "metadata": {},
   "outputs": [
    {
     "data": {
      "text/plain": [
       "1"
      ]
     },
     "execution_count": 5,
     "metadata": {},
     "output_type": "execute_result"
    }
   ],
   "source": [
    "#store in the matrix function to workable variable\n",
    "blosum62 = substitution_matrices.load(\"BLOSUM62\")\n",
    "seq1 = SeqIO.read(\"protein_sequence1.fasta\",\"fasta\")\n",
    "seq2 = SeqIO.read(\"protein_sequence2.fasta\",\"fasta\")\n",
    "alignments = pairwise2.align.globalds(seq1.seq, seq2.seq, blosum62, -10, -0.5)\n",
    "len(alignments)\n"
   ]
  },
  {
   "cell_type": "code",
   "execution_count": 6,
   "id": "surprising-victorian",
   "metadata": {},
   "outputs": [
    {
     "name": "stdout",
     "output_type": "stream",
     "text": [
      "MV-LSPADKTNVKAAWGKVGAHAGEYGAEALERMFLSFPTTKTYFPHF-DLSH-----GSAQVKGHGKKVADALTNAVAHVDDMPNALSALSDLHAHKLRVDPVNFKLLSHCLLVTLAAHLPAEFTPAVHASLDKFLASVSTVLTSKYR\n",
      "|| |..|.|..|...||||  ...|.|.|||.|.....|.|..||..| |||.     |.|.||.|||||..|......|.|........||.||..||.|||.||.||.......|..||...||||..|...|..|.|.|.|..||.\n",
      "MVHLTDAEKAAVSCLWGKV--NSDEVGGEALGRLLVVYPWTQRYFDSFGDLSSASAIMGNAKVKAHGKKVITAFNDGLNHLDSLKGTFASLSELHCDKLHVDPENFRLLGNMIVIVLGHHLGKDFTPAAQAAFQKVVAGVATALAHKYH\n",
      "  Score=295.5\n",
      "\n"
     ]
    }
   ],
   "source": [
    "print(pairwise2.format_alignment(*alignments[0]))"
   ]
  }
 ],
 "metadata": {
  "kernelspec": {
   "display_name": "Python 3",
   "language": "python",
   "name": "python3"
  },
  "language_info": {
   "codemirror_mode": {
    "name": "ipython",
    "version": 3
   },
   "file_extension": ".py",
   "mimetype": "text/x-python",
   "name": "python",
   "nbconvert_exporter": "python",
   "pygments_lexer": "ipython3",
   "version": "3.9.2"
  }
 },
 "nbformat": 4,
 "nbformat_minor": 5
}
