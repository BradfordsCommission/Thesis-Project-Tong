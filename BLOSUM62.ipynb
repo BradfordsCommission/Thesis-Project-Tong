{
  "cells": [
    {
      "cell_type": "code",
      "execution_count": null,
      "metadata": {
        "collapsed": false
      },
      "outputs": [],
      "source": [
        "%matplotlib inline"
      ]
    },
    {
      "cell_type": "markdown",
      "metadata": {},
      "source": [
        "\nDendrogram of the BLOSUM62 matrix\n=================================\n\nIn this example a dendrogram is created, that displays the similarity\nof amino acids in the *BLOSUM62* substitution matrix.\nThe amino acids are clustered with the UPGMA method.\n"
      ]
    },
    {
      "cell_type": "code",
      "execution_count": null,
      "metadata": {
        "collapsed": false
      },
      "outputs": [],
      "source": [
        "# Code source: Patrick Kunzmann\n# License: BSD 3 clause\n\nimport numpy as np\nimport matplotlib.pyplot as plt\nimport biotite.sequence as seq\nimport biotite.sequence.align as align\nimport biotite.sequence.phylo as phylo\nimport biotite.sequence.graphics as graphics\n\n# Obtain BLOSUM62\nmatrix = align.SubstitutionMatrix.std_protein_matrix()\nprint(matrix)"
      ]
    },
    {
      "cell_type": "markdown",
      "metadata": {},
      "source": [
        "The original *BLOSUM62* contains symbols for ambiguous amino acids and\nthe stop signal.\nAs these are not actual amino acids, a new substitution matrix is\ncreated, where these symbols are are removed.\n\n"
      ]
    },
    {
      "cell_type": "code",
      "execution_count": null,
      "metadata": {
        "collapsed": false
      },
      "outputs": [],
      "source": [
        "# Matrix should not contain ambiguous symbols or stop signal\nmatrix = align.SubstitutionMatrix(\n    seq.Alphabet(matrix.get_alphabet1().get_symbols()[:-4]),\n    seq.Alphabet(matrix.get_alphabet2().get_symbols()[:-4]),\n    matrix.score_matrix()[:-4, :-4]\n)\nsimilarities = matrix.score_matrix()\nprint(matrix)"
      ]
    },
    {
      "cell_type": "markdown",
      "metadata": {},
      "source": [
        "Now a function must be defined, that converts the similarity depicted\nby a substitution matrix into a distance required by the UPGMA method.\nIn this case, the distance is defined as the difference between the\nsimilarity of the two symbols and the average maximum similarity of\nthe symbols to themselves.\n\nFinally the obtained (phylogenetic) tree is plotted as dendrogram.\n\n"
      ]
    },
    {
      "cell_type": "code",
      "execution_count": null,
      "metadata": {
        "collapsed": false
      },
      "outputs": [],
      "source": [
        "def get_distance(similarities, i, j):\n    s_max = (similarities[i,i] + similarities[j,j]) / 2\n    return s_max - similarities[i,j]\n\ndistances = np.zeros(similarities.shape)\nfor i in range(distances.shape[0]):\n    for j in range(distances.shape[1]):\n        distances[i,j] = get_distance(similarities, i, j)\n\ntree = phylo.upgma(distances)\n\nfig = plt.figure(figsize=(8.0, 5.0))\nax = fig.add_subplot(111)\n# Use the 3-letter amino acid code aa label\nlabels = [seq.ProteinSequence.convert_letter_1to3(letter).capitalize()\n          for letter in matrix.get_alphabet1()]\ngraphics.plot_dendrogram(\n    ax, tree, orientation=\"top\", labels=labels\n)\nax.set_ylabel(\"Distance\")\n# Add grid for clearer distance perception\nax.yaxis.grid(color=\"lightgray\")\nplt.show()"
      ]
    }
  ],
  "metadata": {
    "kernelspec": {
      "display_name": "Python 3",
      "language": "python",
      "name": "python3"
    },
    "language_info": {
      "codemirror_mode": {
        "name": "ipython",
        "version": 3
      },
      "file_extension": ".py",
      "mimetype": "text/x-python",
      "name": "python",
      "nbconvert_exporter": "python",
      "pygments_lexer": "ipython3",
      "version": "3.8.5"
    }
  },
  "nbformat": 4,
  "nbformat_minor": 0
}
