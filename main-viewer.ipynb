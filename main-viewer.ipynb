{
 "cells": [
  {
   "cell_type": "code",
   "execution_count": 1,
   "metadata": {},
   "outputs": [
    {
     "data": {
      "application/vnd.jupyter.widget-view+json": {
       "model_id": "c447581b9b3c490fa7bb985db7e1751c",
       "version_major": 2,
       "version_minor": 0
      },
      "text/plain": []
     },
     "metadata": {},
     "output_type": "display_data"
    }
   ],
   "source": [
    "import Bio as bio\n",
    "from Bio.Seq import Seq\n",
    "import ipywidgets as widgets\n",
    "from Bio.PDB import *\n",
    "import os\n",
    "import nglview as nv\n",
    "import platform"
   ]
  },
  {
   "cell_type": "code",
   "execution_count": 2,
   "metadata": {
    "scrolled": true
   },
   "outputs": [
    {
     "name": "stdout",
     "output_type": "stream",
     "text": [
      "Please enter the name of the protein: 7ddn\n"
     ]
    }
   ],
   "source": [
    "#In this block, the user will be prompted to enter the name of the protein that they would like to look at.\n",
    "text_box = str(input(\"Please enter the name of the protein: \"))"
   ]
  },
  {
   "cell_type": "code",
   "execution_count": 3,
   "metadata": {},
   "outputs": [
    {
     "name": "stdout",
     "output_type": "stream",
     "text": [
      "Structure exists: 'C:\\Users\\faraz\\Documents\\Research-Dr.Tong\\Dr.Tong-Research\\dd\\7ddn.cif' \n",
      "i\n",
      "The name of the protein is, 7ddn.cif\n"
     ]
    },
    {
     "name": "stderr",
     "output_type": "stream",
     "text": [
      "WARNING: The default download format has changed from PDB to PDBx/mmCif\n"
     ]
    }
   ],
   "source": [
    "first_pdb_file = PDBList()\n",
    "name = first_pdb_file.retrieve_pdb_file(text_box)\n",
    "protein_file = \"\"\n",
    "last_value = -1\n",
    "print(name[-2])\n",
    "\n",
    "if (platform.system() == 'Windows'):\n",
    "    while (name[last_value] != '\\\\'):\n",
    "        protein_file += name[last_value] #Each of the letters is added to the protein_name string, starting from the last letter.\n",
    "        #The value of last_value (which is supposed to immitate the index) is reduced by one, and since it's negative, the constantly decreasing value goes towards the beginning of the string.\n",
    "        last_value -= 1 \n",
    "\n",
    "else:\n",
    "    while (name[last_value] != '/'):\n",
    "        protein_file += name[last_value] #Each of the letters is added to the protein_name string, starting from the last letter.\n",
    "        #The value of last_value (which is supposed to immitate the index) is reduced by one, and since it's negative, the constantly decreasing value goes towards the beginning of the string.\n",
    "        last_value -= 1 \n",
    "\n",
    "protein_file = protein_file[::-1] #The protein name is reversed, to get a proper pdb file format.\n",
    "\n",
    "protein_name = \"\"\n",
    "\n",
    "index = 0\n",
    "while(protein_file[index] != '.'):\n",
    "    protein_name += protein_file[index]\n",
    "    index += 1\n",
    "\n",
    "protein_name = protein_name.upper()\n",
    "print(\"The name of the protein is, \" + protein_file)"
   ]
  },
  {
   "cell_type": "code",
   "execution_count": 4,
   "metadata": {},
   "outputs": [],
   "source": [
    "protein_class = str(protein_file[1]) + str(protein_file[2])\n",
    "\n",
    "#We create an instance of the MMCIF Parser, to load the protein file.\n",
    "parser = MMCIFParser()\n",
    "\n",
    "path = os.path.join(protein_class, protein_file)\n",
    "structure = parser.get_structure(protein_name, path)\n",
    "path = os.path.join(protein_class, protein_file)\n",
    "structure = parser.get_structure(protein_name, path)"
   ]
  },
  {
   "cell_type": "code",
   "execution_count": 5,
   "metadata": {},
   "outputs": [
    {
     "name": "stdout",
     "output_type": "stream",
     "text": [
      "add, atom_to_internal_coordinates, child_dict, child_list, copy, detach_child, detach_parent, full_id, get_atoms, get_chains, get_full_id, get_id, get_iterator, get_level, get_list, get_models, get_parent, get_residues, has_id, header, id, insert, internal_to_atom_coordinates, level, parent, set_parent, transform, xtra\n"
     ]
    }
   ],
   "source": [
    "\n",
    "def clean_protein(obj):\n",
    "    print(', '.join([a for a in dir(obj) if not a.startswith('_')]))\n",
    "    \n",
    "clean_protein(structure)"
   ]
  },
  {
   "cell_type": "code",
   "execution_count": 6,
   "metadata": {},
   "outputs": [
    {
     "data": {
      "application/vnd.jupyter.widget-view+json": {
       "model_id": "71d71ce7541b485fae86bd2cd6f1c77a",
       "version_major": 2,
       "version_minor": 0
      },
      "text/plain": [
       "NGLWidget()"
      ]
     },
     "metadata": {},
     "output_type": "display_data"
    }
   ],
   "source": [
    "view_one = nv.show_biopython(structure)\n",
    "view_one"
   ]
  },
  {
   "cell_type": "code",
   "execution_count": 7,
   "metadata": {},
   "outputs": [
    {
     "data": {
      "application/vnd.jupyter.widget-view+json": {
       "model_id": "c1f2d5b272744624bed8b7eece46fe5e",
       "version_major": 2,
       "version_minor": 0
      },
      "text/plain": [
       "NGLWidget()"
      ]
     },
     "metadata": {},
     "output_type": "display_data"
    }
   ],
   "source": [
    "view_two = nv.show_biopython(structure)\n",
    "view_two.add_ball_and_stick()\n",
    "view_two"
   ]
  },
  {
   "cell_type": "code",
   "execution_count": 8,
   "metadata": {},
   "outputs": [],
   "source": [
    "os.remove(path) #Removes the file after the user is done looking at the protein.\n",
    "os.rmdir(protein_class)"
   ]
  }
 ],
 "metadata": {
  "kernelspec": {
   "display_name": "Python 3",
   "language": "python",
   "name": "python3"
  },
  "language_info": {
   "codemirror_mode": {
    "name": "ipython",
    "version": 3
   },
   "file_extension": ".py",
   "mimetype": "text/x-python",
   "name": "python",
   "nbconvert_exporter": "python",
   "pygments_lexer": "ipython3",
   "version": "3.8.6"
  }
 },
 "nbformat": 4,
 "nbformat_minor": 4
}
