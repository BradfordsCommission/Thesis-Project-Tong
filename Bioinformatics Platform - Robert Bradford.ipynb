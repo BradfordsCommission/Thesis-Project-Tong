{
 "cells": [
  {
   "cell_type": "markdown",
   "metadata": {},
   "source": [
    "# Bioinformatics Platform using JupyterLab\n",
    "\n",
    "Author: Robert Bradford\n",
    "\n",
    "This is a thesis project using JupyterLab to facilitate the study of BIOC-4010 course. This tutorial implements the following basic modules using Biopython, NGLView。\n",
    "1. Databases and sequencing file formats\n",
    "2. Translating DNA sequences into a protein sequence\n",
    "3. Calculating DNA GC content\n",
    "4. Pairwise sequence alignments using Needleman and Waterman algorithms\n",
    "5. Substitution matrices\n",
    "6. BLAST\n",
    "7. Display a 3D structure\n",
    "\n",
    "Requirements:\n",
    "\n",
    "To run this notebook successfully, it is recommended to use Miniconda + JupyterLab and install the required packages and extensions. The notebook shall also work on [Google Colab](https://colab.research.google.com/) or [Binder](https://jupyter.org/binder) but this has not been tested.\n",
    "\n",
    "The following packages are required and can be installed using conda. It is recommended to create a new environment and install these packages. You can use the [nglview-jupyterlab.sh script](https://github.com/nglviewer/nglview/blob/master/devtools/nglview-jupyterlab.sh) to install the nglview related packages.\n",
    "* python 3.8+\n",
    "* jupyterlab 2.1+\n",
    "* biopython 1.7+\n",
    "* ipywidgets 7.5+\n",
    "* nodejs 12.0.0+, required for the jupyter-labextensions\n",
    "* nglview 2.7+\n",
    "    * if you do not use the nglview-jupyterlab.sh script, run the following two commands manually after you install jupyterlab\n",
    "    * `jupyter-labextension install @jupyter-widgets/jupyterlab-manager`\n",
    "    * `jupyter-labextension install nglview-js-widgets@$nglviewversion` where `$nglviewversion` is the version of the `nglview` installed package, which can be inspected with `conda list nglview`.\n",
    "    \n",
    "\n",
    "This notebook has been test on:\n",
    "1. miniconda3\n",
    "2. command line Windows (NGLView generated 3D structures do not load)\n",
    "3. "
   ]
  },
  {
   "cell_type": "markdown",
   "metadata": {},
   "source": [
    "## Setup environment"
   ]
  },
  {
   "cell_type": "code",
   "execution_count": 1,
   "metadata": {
    "scrolled": true
   },
   "outputs": [
    {
     "data": {
      "application/vnd.jupyter.widget-view+json": {
       "model_id": "c11f021c01db404baeb5c485863defaf",
       "version_major": 2,
       "version_minor": 0
      },
      "text/plain": []
     },
     "metadata": {},
     "output_type": "display_data"
    },
    {
     "name": "stdout",
     "output_type": "stream",
     "text": [
      "Python version sys.version_info(major=3, minor=9, micro=1, releaselevel='final', serial=0)\n",
      "Biopython version 1.77\n"
     ]
    }
   ],
   "source": [
    "import Bio\n",
    "from Bio.Seq import Seq\n",
    "import ipywidgets as widgets\n",
    "from Bio.PDB import *\n",
    "import os\n",
    "import sys\n",
    "import nglview as nv\n",
    "import platform\n",
    "print(\"Python version\",sys.version_info)\n",
    "print(\"Biopython version\", Bio.__version__)"
   ]
  },
  {
   "cell_type": "markdown",
   "metadata": {},
   "source": [
    "## Chapter 1 Databases and File Formats\n",
    "The use of bioinformatics typically involves dealing with vast amounts of biological data. This can range from DNA sequences, protein sequences, protein structures, and all their associated annotations. This information is stored into various file formats and can be manipulated and read using biopython. Each file format has unique characteristics and information that a biologist might want to manipulate. In the interest of being able to access and manipulate this data, one must be able to understand these file formats, and where to access this information from. \n",
    "\n",
    "### Databases\n",
    "Biological data, ranging from gene sequences to protein sequences is stored in databases. \n",
    "\n",
    "Beginning with DNA, there are **three** main databases commonly used when dealing with nucleotide sequences: \n",
    "\n",
    "1. GenBank, provided by the National Center for Biotechnology Information (NCBI)\n",
    "2. European Molecular Biology Laboratory (EMBL)-Bank, provided by the European Bioinformatics Institute (EBI)\n",
    "3. DNA Database of Japan (DDBJ), provided by the National Institute of Genetics in Mishima\n",
    "\n",
    "These databases are coordinated by the International Nucleotide Sequence Database Collaboration \n",
    "(INSDC). Each of these databases are but a part of the resources and other database of interest provided by the NCBI, EBI, and DDBJ.\n",
    "\n",
    "### File Formats\n",
    "As mentioned, databases store a wide range of relevent biological information. Some of this information may include large DNA sequences, mRNA products, or proteins sequences. These sequences alone are fairly simple linear arangements of nucleotides and amino acids. However, the context around these sequences, such as the name of the organism, chromosome, gene, or intron they are taken from is also important. \n",
    "\n",
    "In order to keep track of this information such that its kept organized and a biologist can understand it, several standardized file formats have been developed, a list of which can be found [here](https://www.algosome.com/articles/bioinformatics-sequence-file-formats.html). Some of these include:\n",
    "\n",
    "* GenBank, which can store a wide variety of sequence information\n",
    "* EMBL, similar to GenBank, but refit for the EBI database\n",
    "* ABI, which stores pure sequence information in binary. usually only used in special cases.\n",
    "* PDB, protein database formate, used to store sequence information, and the protein's 3D structure gained through crystalography\n",
    "* MLD, mostly stores information regarding smaller molecular strucutres, very similar to PDB\n",
    "* BAM/SAM, stores next generation sequencing data, containing both a binary sequence readout and an alphabetical sequence readout.\n",
    "* SFF, also stores next generation sequencing information, specifically the sequencing information from Ion-Torrent and Roche's '454'.\n",
    "\n",
    "Each database uses their own unique type of format, however they each have similarities between them. This document covers some of the more commonly used file types typically encountered by bioinformatics students.\n",
    "\n",
    "#### FASTA File Format\n",
    "FASTA is one of the simplist of the sequence data formats. FASTA usually contains some idintifying information for the sequence of interest in a header, followed either by the actual DNA or protein sequence. An official description of the file format can be found [here](https://blast.ncbi.nlm.nih.gov/Blast.cgi?CMD=Web&PAGE_TYPE=BlastDocs&DOC_TYPE=BlastHelp).\n",
    "\n",
    "##### FASTA files look something like this:"
   ]
  },
  {
   "cell_type": "raw",
   "metadata": {},
   "source": [
    ">gi|2765658|emb|Z78533.1|CIZ78533 C.irapeanum 5.8S rRNA gene and ITS1 and ITS2 DNA\n",
    "CGTAACAAGGTTTCCGTAGGTGAACCTGCGGAAGGATCATTGATGAGACCGTGGAATAAACGATCGAGTG\n",
    "AATCCGGAGGACCGGTGTACTCAGCTCACCGGGGGCATTGCTCCCGTGGTGACCCTGATTTGTTGTTGGG"
   ]
  },
  {
   "cell_type": "markdown",
   "metadata": {},
   "source": [
    "Fasta files are quite simple to read:\n",
    "* Generally, Fasta files begin with an information line, usually denoted with an \">\" symbole.\n",
    "* Stored sequence pertaining to that information line follows."
   ]
  },
  {
   "cell_type": "markdown",
   "metadata": {},
   "source": [
    "\n",
    "#### GenBank File Format\n",
    "GenBank, EMBL, and DDBJ offer a wide range of molecular sequence data. We will use GenBank to demonstrate how this sequence information is organized and how to access it.GenBank mainly deals with genomic DNA sequences, their theoretically transcribed pre-mRNA, mRNA products, and their translated protein sequences. GenBank provides this and more information regarding specific proteins sequences through the GenBank file format.\n",
    "\n",
    "GenBank uses a standardized file format to contain pertinent information for any given DNA sequence. The GenBank format helps keep information pertaining to a particular gene or protein relatively standard across platforms and help with ease of access. An offical description of each element in the format can be found [here](https://www.ncbi.nlm.nih.gov/Sitemap/samplerecord.html) at the NCBI's website.\n",
    "\n",
    "##### GenBank files look something like this:"
   ]
  },
  {
   "cell_type": "raw",
   "metadata": {},
   "source": [
    "\n",
    "LOCUS       SCU49845     5028 bp    DNA             PLN       21-JUN-1999\n",
    "DEFINITION  Saccharomyces cerevisiae TCP1-beta gene, partial cds, and Axl2p\n",
    "            (AXL2) and Rev7p (REV7) genes, complete cds.\n",
    "ACCESSION   U49845\n",
    "VERSION     U49845.1  GI:1293613\n",
    "KEYWORDS    .\n",
    "SOURCE      Saccharomyces cerevisiae (baker's yeast)\n",
    "  ORGANISM  Saccharomyces cerevisiae\n",
    "            Eukaryota; Fungi; Ascomycota; Saccharomycotina; Saccharomycetes;\n",
    "            Saccharomycetales; Saccharomycetaceae; Saccharomyces.\n",
    "REFERENCE   1  (bases 1 to 5028)\n",
    "  AUTHORS   Torpey,L.E., Gibbs,P.E., Nelson,J. and Lawrence,C.W.\n",
    "  TITLE     Cloning and sequence of REV7, a gene whose function is required for\n",
    "            DNA damage-induced mutagenesis in Saccharomyces cerevisiae\n",
    "  JOURNAL   Yeast 10 (11), 1503-1509 (1994)\n",
    "  PUBMED    7871890\n",
    "REFERENCE   2  (bases 1 to 5028)\n",
    "  AUTHORS   Roemer,T., Madden,K., Chang,J. and Snyder,M.\n",
    "  TITLE     Selection of axial growth sites in yeast requires Axl2p, a novel\n",
    "            plasma membrane glycoprotein\n",
    "  JOURNAL   Genes Dev. 10 (7), 777-793 (1996)\n",
    "  PUBMED    8846915\n",
    "REFERENCE   3  (bases 1 to 5028)\n",
    "  AUTHORS   Roemer,T.\n",
    "  TITLE     Direct Submission\n",
    "  JOURNAL   Submitted (22-FEB-1996) Terry Roemer, Biology, Yale University, New\n",
    "            Haven, CT, USA\n",
    "FEATURES             Location/Qualifiers\n",
    "     source          1..5028\n",
    "                     /organism=\"Saccharomyces cerevisiae\"\n",
    "                     /db_xref=\"taxon:4932\"\n",
    "                     /chromosome=\"IX\"\n",
    "                     /map=\"9\"\n",
    "     CDS             <1..206\n",
    "                     /codon_start=3\n",
    "                     /product=\"TCP1-beta\"\n",
    "                     /protein_id=\"AAA98665.1\"\n",
    "                     /db_xref=\"GI:1293614\"\n",
    "                     /translation=\"SSIYNGISTSGLDLNNGTIADMRQLGIVESYKLKRAVVSSASEA\n",
    "                     AEVLLRVDNIIRARPRTANRQHM\"\n",
    "     gene            687..3158\n",
    "                     /gene=\"AXL2\"\n",
    "     CDS             687..3158\n",
    "                     /gene=\"AXL2\"\n",
    "                     /note=\"plasma membrane glycoprotein\"\n",
    "                     /codon_start=1\n",
    "                     /function=\"required for axial budding pattern of S.\n",
    "                     cerevisiae\"\n",
    "                     /product=\"Axl2p\"\n",
    "                     /protein_id=\"AAA98666.1\"\n",
    "                     /db_xref=\"GI:1293615\"\n",
    "                     /translation=\"MTQLQISLLLTATISLLHLVVATPYEAYPIGKQYPPVARVNESF\n",
    "                     TFQISNDTYKSSVDKTAQITYNCFDLPSWLSFDSSSRTFSGEPSSDLLSDANTTLYFN\n",
    "                     VILEGTDSADSTSLNNTYQFVVTNRPSISLSSDFNLLALLKNYGYTNGKNALKLDPNE\n",
    "                     VFNVTFDRSMFTNEESIVSYYGRSQLYNAPLPNWLFFDSGELKFTGTAPVINSAIAPE\n",
    "                     TSYSFVIIATDIEGFSAVEVEFELVIGAHQLTTSIQNSLIINVTDTGNVSYDLPLNYV\n",
    "                     YLDDDPISSDKLGSINLLDAPDWVALDNATISGSVPDELLGKNSNPANFSVSIYDTYG\n",
    "                     DVIYFNFEVVSTTDLFAISSLPNINATRGEWFSYYFLPSQFTDYVNTNVSLEFTNSSQ\n",
    "                     DHDWVKFQSSNLTLAGEVPKNFDKLSLGLKANQGSQSQELYFNIIGMDSKITHSNHSA\n",
    "                     NATSTRSSHHSTSTSSYTSSTYTAKISSTSAAATSSAPAALPAANKTSSHNKKAVAIA\n",
    "                     CGVAIPLGVILVALICFLIFWRRRRENPDDENLPHAISGPDLNNPANKPNQENATPLN\n",
    "                     NPFDDDASSYDDTSIARRLAALNTLKLDNHSATESDISSVDEKRDSLSGMNTYNDQFQ\n",
    "                     SQSKEELLAKPPVQPPESPFFDPQNRSSSVYMDSEPAVNKSWRYTGNLSPVSDIVRDS\n",
    "                     YGSQKTVDTEKLFDLEAPEKEKRTSRDVTMSSLDPWNSNISPSPVRKSVTPSPYNVTK\n",
    "                     HRNRHLQNIQDSQSGKNGITPTTMSTSSSDDFVPVKDGENFCWVHSMEPDRRPSKKRL\n",
    "                     VDFSNKSNVNVGQVKDIHGRIPEML\"\n",
    "     gene            complement(3300..4037)\n",
    "                     /gene=\"REV7\"\n",
    "     CDS             complement(3300..4037)\n",
    "                     /gene=\"REV7\"\n",
    "                     /codon_start=1\n",
    "                     /product=\"Rev7p\"\n",
    "                     /protein_id=\"AAA98667.1\"\n",
    "                     /db_xref=\"GI:1293616\"\n",
    "                     /translation=\"MNRWVEKWLRVYLKCYINLILFYRNVYPPQSFDYTTYQSFNLPQ\n",
    "                     FVPINRHPALIDYIEELILDVLSKLTHVYRFSICIINKKNDLCIEKYVLDFSELQHVD\n",
    "                     KDDQIITETEVFDEFRSSLNSLIMHLEKLPKVNDDTITFEAVINAIELELGHKLDRNR\n",
    "                     RVDSLEEKAEIERDSNWVKCQEDENLPDNNGFQPPKIKLTSLVGSDVGPLIIHQFSEK\n",
    "                     LISGDDKILNGVYSQYEEGESIFGSLF\"\n",
    "ORIGIN\n",
    "        1 gatcctccat atacaacggt atctccacct caggtttaga tctcaacaac ggaaccattg\n",
    "       61 ccgacatgag acagttaggt atcgtcgaga gttacaagct aaaacgagca gtagtcagct\n",
    "      121 ctgcatctga agccgctgaa gttctactaa gggtggataa catcatccgt gcaagaccaa\n",
    "      181 gaaccgccaa tagacaacat atgtaacata tttaggatat acctcgaaaa taataaaccg\n",
    "      ...\n",
    "\n"
   ]
  },
  {
   "cell_type": "markdown",
   "metadata": {},
   "source": [
    "GenBank files appear vastly more complicated than FASTA files at an initial glance. However, FASTA files and GenBank files function quite similarly:\n",
    "* instead of a simple identification line denoted by the \">\" like in a FASTA file, Gene bank files can contain a fast amount of intial information pertaining to the gene of interest at the start of the file.\n",
    "* GenBank files can contain many features related to specific sequences within the file.\n",
    "* like FASTA files, GenBank files also contain the sequence information after the initial header."
   ]
  },
  {
   "cell_type": "markdown",
   "metadata": {},
   "source": [
    "## Chapter 5 Substitution Matrices\n",
    "One of the fundamental operations in bioinformatics is comparing two sequences, either nucleic acids or proteins, and line them up to archieve maximal levels of identity. This is called _**pairwise sequence alignment**_. Quantification of the similarity of the two sequences is important for establishing whether they are homologs. There are two widely used methods developed to quantify the similarity.\n",
    "\n",
    "- Method 1: align closely related homologs and count the frequencies of amino acid substitutions.\n",
    "- Method 2: use a database of aligned sequences derived from protein domains that have a particular structure or function. The frequencies of amino acid substitutions are recorded.\n",
    "\n",
    "These two methods gave rise to the *PAM* and *BLOSUM* series of amino acid substitution matrices, respectively. These substitution matrices are used in many sequence alignment tools.\n",
    "\n",
    "The *Biopython* package includes these substitution matrices."
   ]
  },
  {
   "cell_type": "code",
   "execution_count": 2,
   "metadata": {},
   "outputs": [
    {
     "name": "stdout",
     "output_type": "stream",
     "text": [
      "#  Matrix made by matblas from blosum62.iij\n",
      "#  * column uses minimum score\n",
      "#  BLOSUM Clustered Scoring Matrix in 1/2 Bit Units\n",
      "#  Blocks Database = /data/blocks_5.0/blocks.dat\n",
      "#  Cluster Percentage: >= 62\n",
      "#  Entropy =   0.6979, Expected =  -0.5209\n",
      "     A    R    N    D    C    Q    E    G    H    I    L    K    M    F    P    S    T    W    Y    V    B    Z    X    *\n",
      "A  4.0 -1.0 -2.0 -2.0  0.0 -1.0 -1.0  0.0 -2.0 -1.0 -1.0 -1.0 -1.0 -2.0 -1.0  1.0  0.0 -3.0 -2.0  0.0 -2.0 -1.0  0.0 -4.0\n",
      "R -1.0  5.0  0.0 -2.0 -3.0  1.0  0.0 -2.0  0.0 -3.0 -2.0  2.0 -1.0 -3.0 -2.0 -1.0 -1.0 -3.0 -2.0 -3.0 -1.0  0.0 -1.0 -4.0\n",
      "N -2.0  0.0  6.0  1.0 -3.0  0.0  0.0  0.0  1.0 -3.0 -3.0  0.0 -2.0 -3.0 -2.0  1.0  0.0 -4.0 -2.0 -3.0  3.0  0.0 -1.0 -4.0\n",
      "D -2.0 -2.0  1.0  6.0 -3.0  0.0  2.0 -1.0 -1.0 -3.0 -4.0 -1.0 -3.0 -3.0 -1.0  0.0 -1.0 -4.0 -3.0 -3.0  4.0  1.0 -1.0 -4.0\n",
      "C  0.0 -3.0 -3.0 -3.0  9.0 -3.0 -4.0 -3.0 -3.0 -1.0 -1.0 -3.0 -1.0 -2.0 -3.0 -1.0 -1.0 -2.0 -2.0 -1.0 -3.0 -3.0 -2.0 -4.0\n",
      "Q -1.0  1.0  0.0  0.0 -3.0  5.0  2.0 -2.0  0.0 -3.0 -2.0  1.0  0.0 -3.0 -1.0  0.0 -1.0 -2.0 -1.0 -2.0  0.0  3.0 -1.0 -4.0\n",
      "E -1.0  0.0  0.0  2.0 -4.0  2.0  5.0 -2.0  0.0 -3.0 -3.0  1.0 -2.0 -3.0 -1.0  0.0 -1.0 -3.0 -2.0 -2.0  1.0  4.0 -1.0 -4.0\n",
      "G  0.0 -2.0  0.0 -1.0 -3.0 -2.0 -2.0  6.0 -2.0 -4.0 -4.0 -2.0 -3.0 -3.0 -2.0  0.0 -2.0 -2.0 -3.0 -3.0 -1.0 -2.0 -1.0 -4.0\n",
      "H -2.0  0.0  1.0 -1.0 -3.0  0.0  0.0 -2.0  8.0 -3.0 -3.0 -1.0 -2.0 -1.0 -2.0 -1.0 -2.0 -2.0  2.0 -3.0  0.0  0.0 -1.0 -4.0\n",
      "I -1.0 -3.0 -3.0 -3.0 -1.0 -3.0 -3.0 -4.0 -3.0  4.0  2.0 -3.0  1.0  0.0 -3.0 -2.0 -1.0 -3.0 -1.0  3.0 -3.0 -3.0 -1.0 -4.0\n",
      "L -1.0 -2.0 -3.0 -4.0 -1.0 -2.0 -3.0 -4.0 -3.0  2.0  4.0 -2.0  2.0  0.0 -3.0 -2.0 -1.0 -2.0 -1.0  1.0 -4.0 -3.0 -1.0 -4.0\n",
      "K -1.0  2.0  0.0 -1.0 -3.0  1.0  1.0 -2.0 -1.0 -3.0 -2.0  5.0 -1.0 -3.0 -1.0  0.0 -1.0 -3.0 -2.0 -2.0  0.0  1.0 -1.0 -4.0\n",
      "M -1.0 -1.0 -2.0 -3.0 -1.0  0.0 -2.0 -3.0 -2.0  1.0  2.0 -1.0  5.0  0.0 -2.0 -1.0 -1.0 -1.0 -1.0  1.0 -3.0 -1.0 -1.0 -4.0\n",
      "F -2.0 -3.0 -3.0 -3.0 -2.0 -3.0 -3.0 -3.0 -1.0  0.0  0.0 -3.0  0.0  6.0 -4.0 -2.0 -2.0  1.0  3.0 -1.0 -3.0 -3.0 -1.0 -4.0\n",
      "P -1.0 -2.0 -2.0 -1.0 -3.0 -1.0 -1.0 -2.0 -2.0 -3.0 -3.0 -1.0 -2.0 -4.0  7.0 -1.0 -1.0 -4.0 -3.0 -2.0 -2.0 -1.0 -2.0 -4.0\n",
      "S  1.0 -1.0  1.0  0.0 -1.0  0.0  0.0  0.0 -1.0 -2.0 -2.0  0.0 -1.0 -2.0 -1.0  4.0  1.0 -3.0 -2.0 -2.0  0.0  0.0  0.0 -4.0\n",
      "T  0.0 -1.0  0.0 -1.0 -1.0 -1.0 -1.0 -2.0 -2.0 -1.0 -1.0 -1.0 -1.0 -2.0 -1.0  1.0  5.0 -2.0 -2.0  0.0 -1.0 -1.0  0.0 -4.0\n",
      "W -3.0 -3.0 -4.0 -4.0 -2.0 -2.0 -3.0 -2.0 -2.0 -3.0 -2.0 -3.0 -1.0  1.0 -4.0 -3.0 -2.0 11.0  2.0 -3.0 -4.0 -3.0 -2.0 -4.0\n",
      "Y -2.0 -2.0 -2.0 -3.0 -2.0 -1.0 -2.0 -3.0  2.0 -1.0 -1.0 -2.0 -1.0  3.0 -3.0 -2.0 -2.0  2.0  7.0 -1.0 -3.0 -2.0 -1.0 -4.0\n",
      "V  0.0 -3.0 -3.0 -3.0 -1.0 -2.0 -2.0 -3.0 -3.0  3.0  1.0 -2.0  1.0 -1.0 -2.0 -2.0  0.0 -3.0 -1.0  4.0 -3.0 -2.0 -1.0 -4.0\n",
      "B -2.0 -1.0  3.0  4.0 -3.0  0.0  1.0 -1.0  0.0 -3.0 -4.0  0.0 -3.0 -3.0 -2.0  0.0 -1.0 -4.0 -3.0 -3.0  4.0  1.0 -1.0 -4.0\n",
      "Z -1.0  0.0  0.0  1.0 -3.0  3.0  4.0 -2.0  0.0 -3.0 -3.0  1.0 -1.0 -3.0 -1.0  0.0 -1.0 -3.0 -2.0 -2.0  1.0  4.0 -1.0 -4.0\n",
      "X  0.0 -1.0 -1.0 -1.0 -2.0 -1.0 -1.0 -1.0 -1.0 -1.0 -1.0 -1.0 -1.0 -1.0 -2.0  0.0  0.0 -2.0 -1.0 -1.0 -1.0 -1.0 -1.0 -4.0\n",
      "* -4.0 -4.0 -4.0 -4.0 -4.0 -4.0 -4.0 -4.0 -4.0 -4.0 -4.0 -4.0 -4.0 -4.0 -4.0 -4.0 -4.0 -4.0 -4.0 -4.0 -4.0 -4.0 -4.0  1.0\n",
      "\n",
      "--------------------------------------------------------------------------------\n",
      "#  \n",
      "#  This matrix was produced by \"pam\" Version 1.0.6 [28-Jul-93]\n",
      "#  \n",
      "#  PAM 250 substitution matrix, scale = ln(2)/3 = 0.231049\n",
      "#  \n",
      "#  Expected score = -0.844, Entropy = 0.354 bits\n",
      "#  \n",
      "#  Lowest score = -8, Highest score = 17\n",
      "#  \n",
      "     A    R    N    D    C    Q    E    G    H    I    L    K    M    F    P    S    T    W    Y    V    B    Z    X    *\n",
      "A  2.0 -2.0  0.0  0.0 -2.0  0.0  0.0  1.0 -1.0 -1.0 -2.0 -1.0 -1.0 -3.0  1.0  1.0  1.0 -6.0 -3.0  0.0  0.0  0.0  0.0 -8.0\n",
      "R -2.0  6.0  0.0 -1.0 -4.0  1.0 -1.0 -3.0  2.0 -2.0 -3.0  3.0  0.0 -4.0  0.0  0.0 -1.0  2.0 -4.0 -2.0 -1.0  0.0 -1.0 -8.0\n",
      "N  0.0  0.0  2.0  2.0 -4.0  1.0  1.0  0.0  2.0 -2.0 -3.0  1.0 -2.0 -3.0  0.0  1.0  0.0 -4.0 -2.0 -2.0  2.0  1.0  0.0 -8.0\n",
      "D  0.0 -1.0  2.0  4.0 -5.0  2.0  3.0  1.0  1.0 -2.0 -4.0  0.0 -3.0 -6.0 -1.0  0.0  0.0 -7.0 -4.0 -2.0  3.0  3.0 -1.0 -8.0\n",
      "C -2.0 -4.0 -4.0 -5.0 12.0 -5.0 -5.0 -3.0 -3.0 -2.0 -6.0 -5.0 -5.0 -4.0 -3.0  0.0 -2.0 -8.0  0.0 -2.0 -4.0 -5.0 -3.0 -8.0\n",
      "Q  0.0  1.0  1.0  2.0 -5.0  4.0  2.0 -1.0  3.0 -2.0 -2.0  1.0 -1.0 -5.0  0.0 -1.0 -1.0 -5.0 -4.0 -2.0  1.0  3.0 -1.0 -8.0\n",
      "E  0.0 -1.0  1.0  3.0 -5.0  2.0  4.0  0.0  1.0 -2.0 -3.0  0.0 -2.0 -5.0 -1.0  0.0  0.0 -7.0 -4.0 -2.0  3.0  3.0 -1.0 -8.0\n",
      "G  1.0 -3.0  0.0  1.0 -3.0 -1.0  0.0  5.0 -2.0 -3.0 -4.0 -2.0 -3.0 -5.0  0.0  1.0  0.0 -7.0 -5.0 -1.0  0.0  0.0 -1.0 -8.0\n",
      "H -1.0  2.0  2.0  1.0 -3.0  3.0  1.0 -2.0  6.0 -2.0 -2.0  0.0 -2.0 -2.0  0.0 -1.0 -1.0 -3.0  0.0 -2.0  1.0  2.0 -1.0 -8.0\n",
      "I -1.0 -2.0 -2.0 -2.0 -2.0 -2.0 -2.0 -3.0 -2.0  5.0  2.0 -2.0  2.0  1.0 -2.0 -1.0  0.0 -5.0 -1.0  4.0 -2.0 -2.0 -1.0 -8.0\n",
      "L -2.0 -3.0 -3.0 -4.0 -6.0 -2.0 -3.0 -4.0 -2.0  2.0  6.0 -3.0  4.0  2.0 -3.0 -3.0 -2.0 -2.0 -1.0  2.0 -3.0 -3.0 -1.0 -8.0\n",
      "K -1.0  3.0  1.0  0.0 -5.0  1.0  0.0 -2.0  0.0 -2.0 -3.0  5.0  0.0 -5.0 -1.0  0.0  0.0 -3.0 -4.0 -2.0  1.0  0.0 -1.0 -8.0\n",
      "M -1.0  0.0 -2.0 -3.0 -5.0 -1.0 -2.0 -3.0 -2.0  2.0  4.0  0.0  6.0  0.0 -2.0 -2.0 -1.0 -4.0 -2.0  2.0 -2.0 -2.0 -1.0 -8.0\n",
      "F -3.0 -4.0 -3.0 -6.0 -4.0 -5.0 -5.0 -5.0 -2.0  1.0  2.0 -5.0  0.0  9.0 -5.0 -3.0 -3.0  0.0  7.0 -1.0 -4.0 -5.0 -2.0 -8.0\n",
      "P  1.0  0.0  0.0 -1.0 -3.0  0.0 -1.0  0.0  0.0 -2.0 -3.0 -1.0 -2.0 -5.0  6.0  1.0  0.0 -6.0 -5.0 -1.0 -1.0  0.0 -1.0 -8.0\n",
      "S  1.0  0.0  1.0  0.0  0.0 -1.0  0.0  1.0 -1.0 -1.0 -3.0  0.0 -2.0 -3.0  1.0  2.0  1.0 -2.0 -3.0 -1.0  0.0  0.0  0.0 -8.0\n",
      "T  1.0 -1.0  0.0  0.0 -2.0 -1.0  0.0  0.0 -1.0  0.0 -2.0  0.0 -1.0 -3.0  0.0  1.0  3.0 -5.0 -3.0  0.0  0.0 -1.0  0.0 -8.0\n",
      "W -6.0  2.0 -4.0 -7.0 -8.0 -5.0 -7.0 -7.0 -3.0 -5.0 -2.0 -3.0 -4.0  0.0 -6.0 -2.0 -5.0 17.0  0.0 -6.0 -5.0 -6.0 -4.0 -8.0\n",
      "Y -3.0 -4.0 -2.0 -4.0  0.0 -4.0 -4.0 -5.0  0.0 -1.0 -1.0 -4.0 -2.0  7.0 -5.0 -3.0 -3.0  0.0 10.0 -2.0 -3.0 -4.0 -2.0 -8.0\n",
      "V  0.0 -2.0 -2.0 -2.0 -2.0 -2.0 -2.0 -1.0 -2.0  4.0  2.0 -2.0  2.0 -1.0 -1.0 -1.0  0.0 -6.0 -2.0  4.0 -2.0 -2.0 -1.0 -8.0\n",
      "B  0.0 -1.0  2.0  3.0 -4.0  1.0  3.0  0.0  1.0 -2.0 -3.0  1.0 -2.0 -4.0 -1.0  0.0  0.0 -5.0 -3.0 -2.0  3.0  2.0 -1.0 -8.0\n",
      "Z  0.0  0.0  1.0  3.0 -5.0  3.0  3.0  0.0  2.0 -2.0 -3.0  0.0 -2.0 -5.0  0.0  0.0 -1.0 -6.0 -4.0 -2.0  2.0  3.0 -1.0 -8.0\n",
      "X  0.0 -1.0  0.0 -1.0 -3.0 -1.0 -1.0 -1.0 -1.0 -1.0 -1.0 -1.0 -1.0 -2.0 -1.0  0.0  0.0 -4.0 -2.0 -1.0 -1.0 -1.0 -1.0 -8.0\n",
      "* -8.0 -8.0 -8.0 -8.0 -8.0 -8.0 -8.0 -8.0 -8.0 -8.0 -8.0 -8.0 -8.0 -8.0 -8.0 -8.0 -8.0 -8.0 -8.0 -8.0 -8.0 -8.0 -8.0  1.0\n",
      "\n"
     ]
    }
   ],
   "source": [
    "# this scriptlet display BLOSUM62 and PAM250 matrices\n",
    "from Bio.Align import substitution_matrices as smatrices\n",
    "blosum62 = smatrices.load(\"BLOSUM62\")\n",
    "pam250 = smatrices.load(\"PAM250\")\n",
    "print(blosum62)\n",
    "print(\"-\"*80)\n",
    "print(pam250)"
   ]
  },
  {
   "cell_type": "markdown",
   "metadata": {},
   "source": [
    "## Chapter 7 Molecular Graphics\n",
    "\n",
    "In this section, we use NGLView to display a structure of interest.\n"
   ]
  },
  {
   "cell_type": "code",
   "execution_count": null,
   "metadata": {
    "scrolled": true
   },
   "outputs": [],
   "source": [
    "#In this block, the user will be prompted to enter the name of the pdb code that they would like to look at.\n",
    "text_box = str(input(\"Please enter the PDB code of the structure: \"))"
   ]
  },
  {
   "cell_type": "code",
   "execution_count": null,
   "metadata": {},
   "outputs": [],
   "source": [
    "# we minic the folder structure of PDB database and save the pdf file in the corresponding folder.\n",
    "first_pdb_file = PDBList()\n",
    "name = first_pdb_file.retrieve_pdb_file(text_box)\n",
    "protein_file = \"\"\n",
    "last_value = -1\n",
    "print(name[-2])\n",
    "\n",
    "if (platform.system() == 'Windows'):\n",
    "    while (name[last_value] != '\\\\'):\n",
    "        protein_file += name[last_value] #Each of the letters is added to the protein_name string, starting from the last letter.\n",
    "        #The value of last_value (which is supposed to immitate the index) is reduced by one, and since it's negative, the constantly decreasing value goes towards the beginning of the string.\n",
    "        last_value -= 1 \n",
    "\n",
    "else:\n",
    "    while (name[last_value] != '/'):\n",
    "        protein_file += name[last_value] #Each of the letters is added to the protein_name string, starting from the last letter.\n",
    "        #The value of last_value (which is supposed to immitate the index) is reduced by one, and since it's negative, the constantly decreasing value goes towards the beginning of the string.\n",
    "        last_value -= 1 \n",
    "\n",
    "protein_file = protein_file[::-1] #The protein name is reversed, to get a proper pdb file format.\n",
    "\n",
    "protein_name = \"\"\n",
    "\n",
    "index = 0\n",
    "while(protein_file[index] != '.'):\n",
    "    protein_name += protein_file[index]\n",
    "    index += 1\n",
    "\n",
    "protein_name = protein_name.upper()\n",
    "print(\"The name of the protein is, \" + protein_file)"
   ]
  },
  {
   "cell_type": "code",
   "execution_count": null,
   "metadata": {},
   "outputs": [],
   "source": [
    "protein_class = str(protein_file[1]) + str(protein_file[2])\n",
    "\n",
    "#We create an instance of the MMCIF Parser, to load the protein file.\n",
    "parser = MMCIFParser()\n",
    "\n",
    "path = os.path.join(protein_class, protein_file)\n",
    "structure = parser.get_structure(protein_name, path)\n",
    "path = os.path.join(protein_class, protein_file)\n",
    "structure = parser.get_structure(protein_name, path)"
   ]
  },
  {
   "cell_type": "code",
   "execution_count": null,
   "metadata": {},
   "outputs": [],
   "source": [
    "\n",
    "def clean_protein(obj):\n",
    "    print(', '.join([a for a in dir(obj) if not a.startswith('_')]))\n",
    "    \n",
    "clean_protein(structure)"
   ]
  },
  {
   "cell_type": "code",
   "execution_count": null,
   "metadata": {},
   "outputs": [],
   "source": [
    "view_one = nv.show_biopython(structure)\n",
    "view_one"
   ]
  },
  {
   "cell_type": "code",
   "execution_count": null,
   "metadata": {},
   "outputs": [],
   "source": [
    "view_two = nv.show_biopython(structure)\n",
    "view_two.add_ball_and_stick()\n",
    "view_two"
   ]
  },
  {
   "cell_type": "code",
   "execution_count": null,
   "metadata": {},
   "outputs": [],
   "source": [
    "# clean up the folder if neccessary\n",
    "os.remove(path) #Removes the file after the user is done looking at the protein.\n",
    "os.rmdir(protein_class)"
   ]
  },
  {
   "cell_type": "code",
   "execution_count": null,
   "metadata": {},
   "outputs": [],
   "source": []
  }
 ],
 "metadata": {
  "kernelspec": {
   "display_name": "Python 3",
   "language": "python",
   "name": "python3"
  },
  "language_info": {
   "codemirror_mode": {
    "name": "ipython",
    "version": 3
   },
   "file_extension": ".py",
   "mimetype": "text/x-python",
   "name": "python",
   "nbconvert_exporter": "python",
   "pygments_lexer": "ipython3",
   "version": "3.9.1"
  }
 },
 "nbformat": 4,
 "nbformat_minor": 4
}
