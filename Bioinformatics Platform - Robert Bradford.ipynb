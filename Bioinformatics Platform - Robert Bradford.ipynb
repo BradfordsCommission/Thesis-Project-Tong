{
 "cells": [
  {
   "cell_type": "markdown",
   "metadata": {},
   "source": [
    "# Bioinformatics Platform using JupyterLab\n",
    "\n",
    "Author: Robert Bradford\n",
    "\n",
    "This is a thesis project using JupyterLab to facilitate the study of BIOC-4010 course. This tutorial implements the following basic modules using Biopython, NGLView。\n",
    "1. Databases and sequencing file formats\n",
    "2. Translating DNA sequences into a protein sequence\n",
    "3. Calculating DNA GC content\n",
    "4. Pairwise sequence alignments using Needleman and Waterman algorithms\n",
    "5. Substitution matrices\n",
    "6. BLAST\n",
    "7. Display a 3D structure\n",
    "\n",
    "Requirements:\n",
    "\n",
    "To run this notebook successfully, it is recommended to use Miniconda + JupyterLab and install the required packages and extensions. The notebook shall also work on [Google Colab](https://colab.research.google.com/) or [Binder](https://jupyter.org/binder) but this has not been tested.\n",
    "\n",
    "The following packages are required and can be installed using conda. It is recommended to create a new environment and install these packages. You can use the [nglview-jupyterlab.sh script](https://github.com/nglviewer/nglview/blob/master/devtools/nglview-jupyterlab.sh) to install the nglview related packages.\n",
    "* python 3.8+\n",
    "* jupyterlab 2.1+\n",
    "* biopython 1.7+\n",
    "* ipywidgets 7.5+\n",
    "* nodejs 12.0.0+, required for the jupyter-labextensions\n",
    "* nglview 2.7+\n",
    "    * if you do not use the nglview-jupyterlab.sh script, run the following two commands manually after you install jupyterlab\n",
    "    * `jupyter-labextension install @jupyter-widgets/jupyterlab-manager`\n",
    "    * `jupyter-labextension install nglview-js-widgets@$nglviewversion` where `$nglviewversion` is the version of the `nglview` installed package, which can be inspected with `conda list nglview`.\n",
    "    \n",
    "\n",
    "This notebook has been test on:\n",
    "1. miniconda3\n",
    "2. command line Windows (NGLView generated 3D structures do not load)\n",
    "3. "
   ]
  },
  {
   "cell_type": "markdown",
   "metadata": {},
   "source": [
    "## Setup environment"
   ]
  },
  {
   "cell_type": "code",
   "execution_count": 1,
   "metadata": {
    "scrolled": true
   },
   "outputs": [
    {
     "data": {
      "application/vnd.jupyter.widget-view+json": {
       "model_id": "4a28d460016c41a092a95decdd25eb92",
       "version_major": 2,
       "version_minor": 0
      },
      "text/plain": []
     },
     "metadata": {},
     "output_type": "display_data"
    },
    {
     "name": "stdout",
     "output_type": "stream",
     "text": [
      "Python version sys.version_info(major=3, minor=9, micro=1, releaselevel='final', serial=0)\n",
      "Biopython version 1.77\n"
     ]
    }
   ],
   "source": [
    "import Bio\n",
    "from Bio.Seq import Seq\n",
    "import ipywidgets as widgets\n",
    "from Bio.PDB import *\n",
    "import os\n",
    "import sys\n",
    "import nglview as nv\n",
    "import platform\n",
    "print(\"Python version\",sys.version_info)\n",
    "print(\"Biopython version\", Bio.__version__)"
   ]
  },
  {
   "cell_type": "markdown",
   "metadata": {},
   "source": [
    "## Chapter 1 Databases and File Formats\n",
    "The use of bioinformatics typically involves dealing with vast amounts of biological data. This can range from DNA sequences, protein sequences, protein structures, and all their associated annotations. This information is stored into various file formats and can be manipulated and read using biopython. Each file formate has unique characteristics and information that a biologist might want to manipulate. In the interest of being able to access and manipulate this data, one must be able to understand these file formats, and where to access this information from. \n",
    "\n",
    "### Databases\n"
   ]
  },
  {
   "cell_type": "markdown",
   "metadata": {},
   "source": [
    "## Chapter 5 Substitution Matrices\n",
    "One of the fundamental operations in bioinformatics is comparing two sequences, either nucleic acids or proteins, and line them up to archieve maximal levels of identity. This is called _**pairwise sequence alignment**_. Quantification of the similarity of the two sequences is important for establishing whether they are homologs. There are two widely used methods developed to quantify the similarity.\n",
    "\n",
    "- Method 1: align closely related homologs and count the frequencies of amino acid substitutions.\n",
    "- Method 2: use a database of aligned sequences derived from protein domains that have a particular structure or function. The frequencies of amino acid substitutions are recorded.\n",
    "\n",
    "These two methods gave rise to the *PAM* and *BLOSUM* series of amino acid substitution matrices, respectively. These substitution matrices are used in many sequence alignment tools.\n",
    "\n",
    "The *Biopython* package includes these substitution matrices."
   ]
  },
  {
   "cell_type": "code",
   "execution_count": 2,
   "metadata": {},
   "outputs": [
    {
     "name": "stdout",
     "output_type": "stream",
     "text": [
      "#  Matrix made by matblas from blosum62.iij\n",
      "#  * column uses minimum score\n",
      "#  BLOSUM Clustered Scoring Matrix in 1/2 Bit Units\n",
      "#  Blocks Database = /data/blocks_5.0/blocks.dat\n",
      "#  Cluster Percentage: >= 62\n",
      "#  Entropy =   0.6979, Expected =  -0.5209\n",
      "     A    R    N    D    C    Q    E    G    H    I    L    K    M    F    P    S    T    W    Y    V    B    Z    X    *\n",
      "A  4.0 -1.0 -2.0 -2.0  0.0 -1.0 -1.0  0.0 -2.0 -1.0 -1.0 -1.0 -1.0 -2.0 -1.0  1.0  0.0 -3.0 -2.0  0.0 -2.0 -1.0  0.0 -4.0\n",
      "R -1.0  5.0  0.0 -2.0 -3.0  1.0  0.0 -2.0  0.0 -3.0 -2.0  2.0 -1.0 -3.0 -2.0 -1.0 -1.0 -3.0 -2.0 -3.0 -1.0  0.0 -1.0 -4.0\n",
      "N -2.0  0.0  6.0  1.0 -3.0  0.0  0.0  0.0  1.0 -3.0 -3.0  0.0 -2.0 -3.0 -2.0  1.0  0.0 -4.0 -2.0 -3.0  3.0  0.0 -1.0 -4.0\n",
      "D -2.0 -2.0  1.0  6.0 -3.0  0.0  2.0 -1.0 -1.0 -3.0 -4.0 -1.0 -3.0 -3.0 -1.0  0.0 -1.0 -4.0 -3.0 -3.0  4.0  1.0 -1.0 -4.0\n",
      "C  0.0 -3.0 -3.0 -3.0  9.0 -3.0 -4.0 -3.0 -3.0 -1.0 -1.0 -3.0 -1.0 -2.0 -3.0 -1.0 -1.0 -2.0 -2.0 -1.0 -3.0 -3.0 -2.0 -4.0\n",
      "Q -1.0  1.0  0.0  0.0 -3.0  5.0  2.0 -2.0  0.0 -3.0 -2.0  1.0  0.0 -3.0 -1.0  0.0 -1.0 -2.0 -1.0 -2.0  0.0  3.0 -1.0 -4.0\n",
      "E -1.0  0.0  0.0  2.0 -4.0  2.0  5.0 -2.0  0.0 -3.0 -3.0  1.0 -2.0 -3.0 -1.0  0.0 -1.0 -3.0 -2.0 -2.0  1.0  4.0 -1.0 -4.0\n",
      "G  0.0 -2.0  0.0 -1.0 -3.0 -2.0 -2.0  6.0 -2.0 -4.0 -4.0 -2.0 -3.0 -3.0 -2.0  0.0 -2.0 -2.0 -3.0 -3.0 -1.0 -2.0 -1.0 -4.0\n",
      "H -2.0  0.0  1.0 -1.0 -3.0  0.0  0.0 -2.0  8.0 -3.0 -3.0 -1.0 -2.0 -1.0 -2.0 -1.0 -2.0 -2.0  2.0 -3.0  0.0  0.0 -1.0 -4.0\n",
      "I -1.0 -3.0 -3.0 -3.0 -1.0 -3.0 -3.0 -4.0 -3.0  4.0  2.0 -3.0  1.0  0.0 -3.0 -2.0 -1.0 -3.0 -1.0  3.0 -3.0 -3.0 -1.0 -4.0\n",
      "L -1.0 -2.0 -3.0 -4.0 -1.0 -2.0 -3.0 -4.0 -3.0  2.0  4.0 -2.0  2.0  0.0 -3.0 -2.0 -1.0 -2.0 -1.0  1.0 -4.0 -3.0 -1.0 -4.0\n",
      "K -1.0  2.0  0.0 -1.0 -3.0  1.0  1.0 -2.0 -1.0 -3.0 -2.0  5.0 -1.0 -3.0 -1.0  0.0 -1.0 -3.0 -2.0 -2.0  0.0  1.0 -1.0 -4.0\n",
      "M -1.0 -1.0 -2.0 -3.0 -1.0  0.0 -2.0 -3.0 -2.0  1.0  2.0 -1.0  5.0  0.0 -2.0 -1.0 -1.0 -1.0 -1.0  1.0 -3.0 -1.0 -1.0 -4.0\n",
      "F -2.0 -3.0 -3.0 -3.0 -2.0 -3.0 -3.0 -3.0 -1.0  0.0  0.0 -3.0  0.0  6.0 -4.0 -2.0 -2.0  1.0  3.0 -1.0 -3.0 -3.0 -1.0 -4.0\n",
      "P -1.0 -2.0 -2.0 -1.0 -3.0 -1.0 -1.0 -2.0 -2.0 -3.0 -3.0 -1.0 -2.0 -4.0  7.0 -1.0 -1.0 -4.0 -3.0 -2.0 -2.0 -1.0 -2.0 -4.0\n",
      "S  1.0 -1.0  1.0  0.0 -1.0  0.0  0.0  0.0 -1.0 -2.0 -2.0  0.0 -1.0 -2.0 -1.0  4.0  1.0 -3.0 -2.0 -2.0  0.0  0.0  0.0 -4.0\n",
      "T  0.0 -1.0  0.0 -1.0 -1.0 -1.0 -1.0 -2.0 -2.0 -1.0 -1.0 -1.0 -1.0 -2.0 -1.0  1.0  5.0 -2.0 -2.0  0.0 -1.0 -1.0  0.0 -4.0\n",
      "W -3.0 -3.0 -4.0 -4.0 -2.0 -2.0 -3.0 -2.0 -2.0 -3.0 -2.0 -3.0 -1.0  1.0 -4.0 -3.0 -2.0 11.0  2.0 -3.0 -4.0 -3.0 -2.0 -4.0\n",
      "Y -2.0 -2.0 -2.0 -3.0 -2.0 -1.0 -2.0 -3.0  2.0 -1.0 -1.0 -2.0 -1.0  3.0 -3.0 -2.0 -2.0  2.0  7.0 -1.0 -3.0 -2.0 -1.0 -4.0\n",
      "V  0.0 -3.0 -3.0 -3.0 -1.0 -2.0 -2.0 -3.0 -3.0  3.0  1.0 -2.0  1.0 -1.0 -2.0 -2.0  0.0 -3.0 -1.0  4.0 -3.0 -2.0 -1.0 -4.0\n",
      "B -2.0 -1.0  3.0  4.0 -3.0  0.0  1.0 -1.0  0.0 -3.0 -4.0  0.0 -3.0 -3.0 -2.0  0.0 -1.0 -4.0 -3.0 -3.0  4.0  1.0 -1.0 -4.0\n",
      "Z -1.0  0.0  0.0  1.0 -3.0  3.0  4.0 -2.0  0.0 -3.0 -3.0  1.0 -1.0 -3.0 -1.0  0.0 -1.0 -3.0 -2.0 -2.0  1.0  4.0 -1.0 -4.0\n",
      "X  0.0 -1.0 -1.0 -1.0 -2.0 -1.0 -1.0 -1.0 -1.0 -1.0 -1.0 -1.0 -1.0 -1.0 -2.0  0.0  0.0 -2.0 -1.0 -1.0 -1.0 -1.0 -1.0 -4.0\n",
      "* -4.0 -4.0 -4.0 -4.0 -4.0 -4.0 -4.0 -4.0 -4.0 -4.0 -4.0 -4.0 -4.0 -4.0 -4.0 -4.0 -4.0 -4.0 -4.0 -4.0 -4.0 -4.0 -4.0  1.0\n",
      "\n",
      "--------------------------------------------------------------------------------\n",
      "#  \n",
      "#  This matrix was produced by \"pam\" Version 1.0.6 [28-Jul-93]\n",
      "#  \n",
      "#  PAM 250 substitution matrix, scale = ln(2)/3 = 0.231049\n",
      "#  \n",
      "#  Expected score = -0.844, Entropy = 0.354 bits\n",
      "#  \n",
      "#  Lowest score = -8, Highest score = 17\n",
      "#  \n",
      "     A    R    N    D    C    Q    E    G    H    I    L    K    M    F    P    S    T    W    Y    V    B    Z    X    *\n",
      "A  2.0 -2.0  0.0  0.0 -2.0  0.0  0.0  1.0 -1.0 -1.0 -2.0 -1.0 -1.0 -3.0  1.0  1.0  1.0 -6.0 -3.0  0.0  0.0  0.0  0.0 -8.0\n",
      "R -2.0  6.0  0.0 -1.0 -4.0  1.0 -1.0 -3.0  2.0 -2.0 -3.0  3.0  0.0 -4.0  0.0  0.0 -1.0  2.0 -4.0 -2.0 -1.0  0.0 -1.0 -8.0\n",
      "N  0.0  0.0  2.0  2.0 -4.0  1.0  1.0  0.0  2.0 -2.0 -3.0  1.0 -2.0 -3.0  0.0  1.0  0.0 -4.0 -2.0 -2.0  2.0  1.0  0.0 -8.0\n",
      "D  0.0 -1.0  2.0  4.0 -5.0  2.0  3.0  1.0  1.0 -2.0 -4.0  0.0 -3.0 -6.0 -1.0  0.0  0.0 -7.0 -4.0 -2.0  3.0  3.0 -1.0 -8.0\n",
      "C -2.0 -4.0 -4.0 -5.0 12.0 -5.0 -5.0 -3.0 -3.0 -2.0 -6.0 -5.0 -5.0 -4.0 -3.0  0.0 -2.0 -8.0  0.0 -2.0 -4.0 -5.0 -3.0 -8.0\n",
      "Q  0.0  1.0  1.0  2.0 -5.0  4.0  2.0 -1.0  3.0 -2.0 -2.0  1.0 -1.0 -5.0  0.0 -1.0 -1.0 -5.0 -4.0 -2.0  1.0  3.0 -1.0 -8.0\n",
      "E  0.0 -1.0  1.0  3.0 -5.0  2.0  4.0  0.0  1.0 -2.0 -3.0  0.0 -2.0 -5.0 -1.0  0.0  0.0 -7.0 -4.0 -2.0  3.0  3.0 -1.0 -8.0\n",
      "G  1.0 -3.0  0.0  1.0 -3.0 -1.0  0.0  5.0 -2.0 -3.0 -4.0 -2.0 -3.0 -5.0  0.0  1.0  0.0 -7.0 -5.0 -1.0  0.0  0.0 -1.0 -8.0\n",
      "H -1.0  2.0  2.0  1.0 -3.0  3.0  1.0 -2.0  6.0 -2.0 -2.0  0.0 -2.0 -2.0  0.0 -1.0 -1.0 -3.0  0.0 -2.0  1.0  2.0 -1.0 -8.0\n",
      "I -1.0 -2.0 -2.0 -2.0 -2.0 -2.0 -2.0 -3.0 -2.0  5.0  2.0 -2.0  2.0  1.0 -2.0 -1.0  0.0 -5.0 -1.0  4.0 -2.0 -2.0 -1.0 -8.0\n",
      "L -2.0 -3.0 -3.0 -4.0 -6.0 -2.0 -3.0 -4.0 -2.0  2.0  6.0 -3.0  4.0  2.0 -3.0 -3.0 -2.0 -2.0 -1.0  2.0 -3.0 -3.0 -1.0 -8.0\n",
      "K -1.0  3.0  1.0  0.0 -5.0  1.0  0.0 -2.0  0.0 -2.0 -3.0  5.0  0.0 -5.0 -1.0  0.0  0.0 -3.0 -4.0 -2.0  1.0  0.0 -1.0 -8.0\n",
      "M -1.0  0.0 -2.0 -3.0 -5.0 -1.0 -2.0 -3.0 -2.0  2.0  4.0  0.0  6.0  0.0 -2.0 -2.0 -1.0 -4.0 -2.0  2.0 -2.0 -2.0 -1.0 -8.0\n",
      "F -3.0 -4.0 -3.0 -6.0 -4.0 -5.0 -5.0 -5.0 -2.0  1.0  2.0 -5.0  0.0  9.0 -5.0 -3.0 -3.0  0.0  7.0 -1.0 -4.0 -5.0 -2.0 -8.0\n",
      "P  1.0  0.0  0.0 -1.0 -3.0  0.0 -1.0  0.0  0.0 -2.0 -3.0 -1.0 -2.0 -5.0  6.0  1.0  0.0 -6.0 -5.0 -1.0 -1.0  0.0 -1.0 -8.0\n",
      "S  1.0  0.0  1.0  0.0  0.0 -1.0  0.0  1.0 -1.0 -1.0 -3.0  0.0 -2.0 -3.0  1.0  2.0  1.0 -2.0 -3.0 -1.0  0.0  0.0  0.0 -8.0\n",
      "T  1.0 -1.0  0.0  0.0 -2.0 -1.0  0.0  0.0 -1.0  0.0 -2.0  0.0 -1.0 -3.0  0.0  1.0  3.0 -5.0 -3.0  0.0  0.0 -1.0  0.0 -8.0\n",
      "W -6.0  2.0 -4.0 -7.0 -8.0 -5.0 -7.0 -7.0 -3.0 -5.0 -2.0 -3.0 -4.0  0.0 -6.0 -2.0 -5.0 17.0  0.0 -6.0 -5.0 -6.0 -4.0 -8.0\n",
      "Y -3.0 -4.0 -2.0 -4.0  0.0 -4.0 -4.0 -5.0  0.0 -1.0 -1.0 -4.0 -2.0  7.0 -5.0 -3.0 -3.0  0.0 10.0 -2.0 -3.0 -4.0 -2.0 -8.0\n",
      "V  0.0 -2.0 -2.0 -2.0 -2.0 -2.0 -2.0 -1.0 -2.0  4.0  2.0 -2.0  2.0 -1.0 -1.0 -1.0  0.0 -6.0 -2.0  4.0 -2.0 -2.0 -1.0 -8.0\n",
      "B  0.0 -1.0  2.0  3.0 -4.0  1.0  3.0  0.0  1.0 -2.0 -3.0  1.0 -2.0 -4.0 -1.0  0.0  0.0 -5.0 -3.0 -2.0  3.0  2.0 -1.0 -8.0\n",
      "Z  0.0  0.0  1.0  3.0 -5.0  3.0  3.0  0.0  2.0 -2.0 -3.0  0.0 -2.0 -5.0  0.0  0.0 -1.0 -6.0 -4.0 -2.0  2.0  3.0 -1.0 -8.0\n",
      "X  0.0 -1.0  0.0 -1.0 -3.0 -1.0 -1.0 -1.0 -1.0 -1.0 -1.0 -1.0 -1.0 -2.0 -1.0  0.0  0.0 -4.0 -2.0 -1.0 -1.0 -1.0 -1.0 -8.0\n",
      "* -8.0 -8.0 -8.0 -8.0 -8.0 -8.0 -8.0 -8.0 -8.0 -8.0 -8.0 -8.0 -8.0 -8.0 -8.0 -8.0 -8.0 -8.0 -8.0 -8.0 -8.0 -8.0 -8.0  1.0\n",
      "\n"
     ]
    }
   ],
   "source": [
    "# this scriptlet display BLOSUM62 and PAM250 matrices\n",
    "from Bio.Align import substitution_matrices as smatrices\n",
    "blosum62 = smatrices.load(\"BLOSUM62\")\n",
    "pam250 = smatrices.load(\"PAM250\")\n",
    "print(blosum62)\n",
    "print(\"-\"*80)\n",
    "print(pam250)"
   ]
  },
  {
   "cell_type": "markdown",
   "metadata": {},
   "source": [
    "## Chapter 7 Molecular Graphics\n",
    "\n",
    "In this section, we use NGLView to display a structure of interest.\n"
   ]
  },
  {
   "cell_type": "code",
   "execution_count": 3,
   "metadata": {
    "scrolled": true
   },
   "outputs": [
    {
     "name": "stdout",
     "output_type": "stream",
     "text": [
      "Please enter the PDB code of the structure: 1a3n\n"
     ]
    }
   ],
   "source": [
    "#In this block, the user will be prompted to enter the name of the pdb code that they would like to look at.\n",
    "text_box = str(input(\"Please enter the PDB code of the structure: \"))"
   ]
  },
  {
   "cell_type": "code",
   "execution_count": 4,
   "metadata": {},
   "outputs": [
    {
     "name": "stderr",
     "output_type": "stream",
     "text": [
      "WARNING: The default download format has changed from PDB to PDBx/mmCif\n"
     ]
    },
    {
     "name": "stdout",
     "output_type": "stream",
     "text": [
      "Downloading PDB structure '1a3n'...\n",
      "i\n",
      "The name of the protein is, 1a3n.cif\n"
     ]
    }
   ],
   "source": [
    "# we minic the folder structure of PDB database and save the pdf file in the corresponding folder.\n",
    "first_pdb_file = PDBList()\n",
    "name = first_pdb_file.retrieve_pdb_file(text_box)\n",
    "protein_file = \"\"\n",
    "last_value = -1\n",
    "print(name[-2])\n",
    "\n",
    "if (platform.system() == 'Windows'):\n",
    "    while (name[last_value] != '\\\\'):\n",
    "        protein_file += name[last_value] #Each of the letters is added to the protein_name string, starting from the last letter.\n",
    "        #The value of last_value (which is supposed to immitate the index) is reduced by one, and since it's negative, the constantly decreasing value goes towards the beginning of the string.\n",
    "        last_value -= 1 \n",
    "\n",
    "else:\n",
    "    while (name[last_value] != '/'):\n",
    "        protein_file += name[last_value] #Each of the letters is added to the protein_name string, starting from the last letter.\n",
    "        #The value of last_value (which is supposed to immitate the index) is reduced by one, and since it's negative, the constantly decreasing value goes towards the beginning of the string.\n",
    "        last_value -= 1 \n",
    "\n",
    "protein_file = protein_file[::-1] #The protein name is reversed, to get a proper pdb file format.\n",
    "\n",
    "protein_name = \"\"\n",
    "\n",
    "index = 0\n",
    "while(protein_file[index] != '.'):\n",
    "    protein_name += protein_file[index]\n",
    "    index += 1\n",
    "\n",
    "protein_name = protein_name.upper()\n",
    "print(\"The name of the protein is, \" + protein_file)"
   ]
  },
  {
   "cell_type": "code",
   "execution_count": 5,
   "metadata": {},
   "outputs": [
    {
     "name": "stderr",
     "output_type": "stream",
     "text": [
      "C:\\Users\\Robert\\miniconda3\\lib\\site-packages\\Bio\\PDB\\StructureBuilder.py:89: PDBConstructionWarning: WARNING: Chain A is discontinuous at line 4370.\n",
      "  warnings.warn(\n",
      "C:\\Users\\Robert\\miniconda3\\lib\\site-packages\\Bio\\PDB\\StructureBuilder.py:89: PDBConstructionWarning: WARNING: Chain B is discontinuous at line 4413.\n",
      "  warnings.warn(\n",
      "C:\\Users\\Robert\\miniconda3\\lib\\site-packages\\Bio\\PDB\\StructureBuilder.py:89: PDBConstructionWarning: WARNING: Chain C is discontinuous at line 4456.\n",
      "  warnings.warn(\n",
      "C:\\Users\\Robert\\miniconda3\\lib\\site-packages\\Bio\\PDB\\StructureBuilder.py:89: PDBConstructionWarning: WARNING: Chain D is discontinuous at line 4499.\n",
      "  warnings.warn(\n",
      "C:\\Users\\Robert\\miniconda3\\lib\\site-packages\\Bio\\PDB\\StructureBuilder.py:89: PDBConstructionWarning: WARNING: Chain A is discontinuous at line 4542.\n",
      "  warnings.warn(\n",
      "C:\\Users\\Robert\\miniconda3\\lib\\site-packages\\Bio\\PDB\\StructureBuilder.py:89: PDBConstructionWarning: WARNING: Chain B is discontinuous at line 4667.\n",
      "  warnings.warn(\n",
      "C:\\Users\\Robert\\miniconda3\\lib\\site-packages\\Bio\\PDB\\StructureBuilder.py:89: PDBConstructionWarning: WARNING: Chain C is discontinuous at line 4781.\n",
      "  warnings.warn(\n",
      "C:\\Users\\Robert\\miniconda3\\lib\\site-packages\\Bio\\PDB\\StructureBuilder.py:89: PDBConstructionWarning: WARNING: Chain D is discontinuous at line 4881.\n",
      "  warnings.warn(\n",
      "C:\\Users\\Robert\\miniconda3\\lib\\site-packages\\Bio\\PDB\\StructureBuilder.py:89: PDBConstructionWarning: WARNING: Chain A is discontinuous at line 4370.\n",
      "  warnings.warn(\n",
      "C:\\Users\\Robert\\miniconda3\\lib\\site-packages\\Bio\\PDB\\StructureBuilder.py:89: PDBConstructionWarning: WARNING: Chain B is discontinuous at line 4413.\n",
      "  warnings.warn(\n",
      "C:\\Users\\Robert\\miniconda3\\lib\\site-packages\\Bio\\PDB\\StructureBuilder.py:89: PDBConstructionWarning: WARNING: Chain C is discontinuous at line 4456.\n",
      "  warnings.warn(\n",
      "C:\\Users\\Robert\\miniconda3\\lib\\site-packages\\Bio\\PDB\\StructureBuilder.py:89: PDBConstructionWarning: WARNING: Chain D is discontinuous at line 4499.\n",
      "  warnings.warn(\n",
      "C:\\Users\\Robert\\miniconda3\\lib\\site-packages\\Bio\\PDB\\StructureBuilder.py:89: PDBConstructionWarning: WARNING: Chain A is discontinuous at line 4542.\n",
      "  warnings.warn(\n",
      "C:\\Users\\Robert\\miniconda3\\lib\\site-packages\\Bio\\PDB\\StructureBuilder.py:89: PDBConstructionWarning: WARNING: Chain B is discontinuous at line 4667.\n",
      "  warnings.warn(\n",
      "C:\\Users\\Robert\\miniconda3\\lib\\site-packages\\Bio\\PDB\\StructureBuilder.py:89: PDBConstructionWarning: WARNING: Chain C is discontinuous at line 4781.\n",
      "  warnings.warn(\n",
      "C:\\Users\\Robert\\miniconda3\\lib\\site-packages\\Bio\\PDB\\StructureBuilder.py:89: PDBConstructionWarning: WARNING: Chain D is discontinuous at line 4881.\n",
      "  warnings.warn(\n"
     ]
    }
   ],
   "source": [
    "protein_class = str(protein_file[1]) + str(protein_file[2])\n",
    "\n",
    "#We create an instance of the MMCIF Parser, to load the protein file.\n",
    "parser = MMCIFParser()\n",
    "\n",
    "path = os.path.join(protein_class, protein_file)\n",
    "structure = parser.get_structure(protein_name, path)\n",
    "path = os.path.join(protein_class, protein_file)\n",
    "structure = parser.get_structure(protein_name, path)"
   ]
  },
  {
   "cell_type": "code",
   "execution_count": 6,
   "metadata": {},
   "outputs": [
    {
     "name": "stdout",
     "output_type": "stream",
     "text": [
      "add, atom_to_internal_coordinates, child_dict, child_list, copy, detach_child, detach_parent, full_id, get_atoms, get_chains, get_full_id, get_id, get_iterator, get_level, get_list, get_models, get_parent, get_residues, has_id, header, id, insert, internal_to_atom_coordinates, level, parent, set_parent, transform, xtra\n"
     ]
    }
   ],
   "source": [
    "\n",
    "def clean_protein(obj):\n",
    "    print(', '.join([a for a in dir(obj) if not a.startswith('_')]))\n",
    "    \n",
    "clean_protein(structure)"
   ]
  },
  {
   "cell_type": "code",
   "execution_count": 7,
   "metadata": {},
   "outputs": [
    {
     "data": {
      "application/vnd.jupyter.widget-view+json": {
       "model_id": "74bbc550699c450291060d1656f53198",
       "version_major": 2,
       "version_minor": 0
      },
      "text/plain": [
       "NGLWidget()"
      ]
     },
     "metadata": {},
     "output_type": "display_data"
    }
   ],
   "source": [
    "view_one = nv.show_biopython(structure)\n",
    "view_one"
   ]
  },
  {
   "cell_type": "code",
   "execution_count": 8,
   "metadata": {},
   "outputs": [
    {
     "data": {
      "application/vnd.jupyter.widget-view+json": {
       "model_id": "e00d886561c64896a57d25d958ea280f",
       "version_major": 2,
       "version_minor": 0
      },
      "text/plain": [
       "NGLWidget()"
      ]
     },
     "metadata": {},
     "output_type": "display_data"
    }
   ],
   "source": [
    "view_two = nv.show_biopython(structure)\n",
    "view_two.add_ball_and_stick()\n",
    "view_two"
   ]
  },
  {
   "cell_type": "code",
   "execution_count": 9,
   "metadata": {},
   "outputs": [],
   "source": [
    "# clean up the folder if neccessary\n",
    "os.remove(path) #Removes the file after the user is done looking at the protein.\n",
    "os.rmdir(protein_class)"
   ]
  },
  {
   "cell_type": "code",
   "execution_count": null,
   "metadata": {},
   "outputs": [],
   "source": []
  }
 ],
 "metadata": {
  "kernelspec": {
   "display_name": "Python 3",
   "language": "python",
   "name": "python3"
  },
  "language_info": {
   "codemirror_mode": {
    "name": "ipython",
    "version": 3
   },
   "file_extension": ".py",
   "mimetype": "text/x-python",
   "name": "python",
   "nbconvert_exporter": "python",
   "pygments_lexer": "ipython3",
   "version": "3.9.1"
  }
 },
 "nbformat": 4,
 "nbformat_minor": 4
}
