{
 "cells": [
  {
   "cell_type": "markdown",
   "metadata": {},
   "source": [
    "# Bioinformatics Platform using JupyterLab\n",
    "\n",
    "Author: Robert Bradford\n",
    "\n",
    "This is a thesis project using JupyterLab to facilitate the study of BIOC-4010 course. This tutorial implements the following basic modules using Biopython, NGLView。\n",
    "1. Databases and sequencing file formats\n",
    "2. Translating DNA sequences into a protein sequence\n",
    "3. Calculating DNA GC content\n",
    "4. Pairwise sequence alignments using Needleman and Waterman algorithms\n",
    "5. Substitution matrices\n",
    "6. BLAST\n",
    "7. Display a 3D structure\n",
    "\n",
    "Requirements:\n",
    "\n",
    "To run this notebook successfully, it is recommended to use Miniconda + JupyterLab and install the required packages and extensions. The notebook shall also work on [Google Colab](https://colab.research.google.com/) or [Binder](https://jupyter.org/binder) but this has not been tested.\n",
    "\n",
    "The following packages are required and can be installed using conda. It is recommended to create a new environment and install these packages. You can use the [nglview-jupyterlab.sh script](https://github.com/nglviewer/nglview/blob/master/devtools/nglview-jupyterlab.sh) to install the nglview related packages.\n",
    "* python 3.8+\n",
    "* jupyterlab 2.1+\n",
    "* biopython 1.7+\n",
    "* ipywidgets 7.5+\n",
    "* nodejs 12.0.0+, required for the jupyter-labextensions\n",
    "* nglview 2.7+\n",
    "    * if you do not use the nglview-jupyterlab.sh script, run the following two commands manually after you install jupyterlab\n",
    "    * `jupyter-labextension install @jupyter-widgets/jupyterlab-manager`\n",
    "    * `jupyter-labextension install nglview-js-widgets@$nglviewversion` where `$nglviewversion` is the version of the `nglview` installed package, which can be inspected with `conda list nglview`.\n",
    "    \n",
    "\n",
    "This notebook has been test on:\n",
    "1. miniconda3\n",
    "2. command line Windows (NGLView generated 3D structures do not load)\n",
    "3. Google Colab\n",
    "\n",
    "## If Running on Google CoLab:\n",
    "This notebook may be run on Google Colab, should the proper modifications be performed.\n",
    "Google Colab is based on the Jupyter-Environment, and consequenly the changes needed will be minimal.\n",
    "If you are to run the notebook on Colab, perform the following modificaitons:\n",
    "\n",
    "- This notebook makes use of four common files in order to familiarize you with common file types an bioinformatics tools, these can be stored locally in the same file local location of this notebook if you are using a locally hosted Jupyter session.\n",
    "    - However, if if you wish to run this on Colab, these files must be stored differently.\n",
    "    - Download these four files:\n",
    "        - The ls_orchid.fasta file found [here](https://raw.githubusercontent.com/biopython/biopython/master/Doc/examples/ls_orchid.fasta)\n",
    "        - The ls_orchid.gbk file found [here](https://raw.githubusercontent.com/biopython/biopython/master/Doc/examples/ls_orchid.gbk)\n",
    "        - The alpha hemoglobin fasta file found [here](https://www.uniprot.org/uniprot/P69905.fasta)\n",
    "        - The beta hemoglobin fasta file found [here](https://www.uniprot.org/uniprot/P68871.fasta)\n",
    "    - Then run the following code (note, to make the code work, simply remove the \"#\" infront of each line)"
   ]
  },
  {
   "cell_type": "code",
   "execution_count": null,
   "metadata": {},
   "outputs": [],
   "source": [
    "#from google.colab import files\n",
    "#uploaded = files.upload()\n",
    "#for fn in uploaded.keys():\n",
    "#print('User uploaded file \"{name}\" with length {length} bytes'.format(\n",
    "#name=fn, length=len(uploaded[fn])))"
   ]
  },
  {
   "cell_type": "markdown",
   "metadata": {},
   "source": [
    "This code stores the uploaded files into a dictionary named \"uploaded\".\n",
    "\n",
    "if you wish to use a specific file in a section of the notebook add uploaded['File_name'].\n",
    "\n",
    "\n",
    "Here is an example:\n",
    "\n",
    "for a file call such as:\n",
    "for record in SeqIO.parse(\"ls_orchid.fasta\", \"fasta\"):\n",
    "\n",
    "replace \"ls_orchid.fasta\" with uploaded['ls_orchid.fasta']\n",
    "\n",
    "so that it looks like:\n",
    "for record in SeqIO.parse(uploaded['ls_orchid.fasta'], \"fasta\"):\n",
    "\n",
    "simply do this throughout, and the notebook should be compatible on Google Colab.\n",
    "\n",
    "### Note Regarding Google Colab and NGLView\n",
    "Google has not added ipywidgets compatibility to Google Colab.\n",
    "as a result, NGLView cannot be run on Google Colab.\n",
    "The rest of the notebook should run however."
   ]
  },
  {
   "cell_type": "markdown",
   "metadata": {},
   "source": [
    "## Setup environment"
   ]
  },
  {
   "cell_type": "code",
   "execution_count": null,
   "metadata": {
    "scrolled": true
   },
   "outputs": [],
   "source": [
    "import os\n",
    "import sys\n",
    "\n",
    "!pip install nglview\n",
    "import nglview as nv\n",
    "import platform\n",
    "!pip install ipywidgets\n",
    "import ipywidgets as widgets\n",
    "\n",
    "!pip install biopython\n",
    "import Bio\n",
    "from Bio import SeqIO\n",
    "from Bio.Seq import Seq\n",
    "from Bio.SeqUtils import GC\n",
    "from Bio.Data import CodonTable\n",
    "from Bio import pairwise2\n",
    "from Bio.Blast import NCBIWWW\n",
    "from Bio.Blast import NCBIXML\n",
    "from Bio.PDB import *\n",
    "\n",
    "print(\"Python version\",sys.version_info)\n",
    "print(\"Biopython version\", Bio.__version__)"
   ]
  },
  {
   "cell_type": "markdown",
   "metadata": {},
   "source": [
    "## Chapter 1 Databases and File Formats\n",
    "The use of bioinformatics typically involves dealing with vast amounts of biological data. This can range from DNA sequences, protein sequences, protein structures, and all their associated annotations. This information is stored into various file formats and can be manipulated and read using biopython. Each file format has unique characteristics and information that a biologist might want to manipulate. In the interest of being able to access and manipulate this data, one must be able to understand these file formats, and where to access this information from. \n",
    "\n",
    "### Databases\n",
    "Biological data, ranging from gene sequences to protein sequences is stored in databases. \n",
    "\n",
    "Beginning with DNA, there are **three** main databases commonly used when dealing with nucleotide sequences: \n",
    "\n",
    "1. GenBank, provided by the National Center for Biotechnology Information (NCBI)\n",
    "2. European Molecular Biology Laboratory (EMBL)-Bank, provided by the European Bioinformatics Institute (EBI)\n",
    "3. DNA Database of Japan (DDBJ), provided by the National Institute of Genetics in Mishima\n",
    "\n",
    "These databases are coordinated by the International Nucleotide Sequence Database Collaboration \n",
    "(INSDC). Each of these databases are but a part of the resources and other database of interest provided by the NCBI, EBI, and DDBJ.\n",
    "\n",
    "### File Formats\n",
    "As mentioned, databases store a wide range of relevent biological information. Some of this information may include large DNA sequences, mRNA products, or proteins sequences. These sequences alone are fairly simple linear arangements of nucleotides and amino acids. However, the context around these sequences, such as the name of the organism, chromosome, gene, or intron they are taken from is also important. \n",
    "\n",
    "In order to keep track of this information such that its kept organized and a biologist can understand it, several standardized file formats have been developed, a list of which can be found [here](https://www.algosome.com/articles/bioinformatics-sequence-file-formats.html). Some of these include:\n",
    "\n",
    "* GenBank, which can store a wide variety of sequence information\n",
    "* EMBL, similar to GenBank, but refit for the EBI database\n",
    "* ABI, which stores pure sequence information in binary. usually only used in special cases.\n",
    "* PDB, protein database formate, used to store sequence information, and the protein's 3D structure gained through crystalography\n",
    "* MLD, mostly stores information regarding smaller molecular strucutres, very similar to PDB\n",
    "* BAM/SAM, stores next generation sequencing data, containing both a binary sequence readout and an alphabetical sequence readout.\n",
    "* SFF, also stores next generation sequencing information, specifically the sequencing information from Ion-Torrent and Roche's '454'.\n",
    "\n",
    "Each database uses their own unique type of format, however they each have similarities between them. This document covers some of the more commonly used file types typically encountered by bioinformatics students.\n",
    "\n",
    "#### FASTA File Format\n",
    "FASTA is one of the simplist of the sequence data formats. FASTA usually contains some idintifying information for the sequence of interest in a header, followed either by the actual DNA or protein sequence. An official description of the file format can be found [here](https://blast.ncbi.nlm.nih.gov/Blast.cgi?CMD=Web&PAGE_TYPE=BlastDocs&DOC_TYPE=BlastHelp).\n",
    "\n",
    "##### FASTA files look something like this:"
   ]
  },
  {
   "cell_type": "raw",
   "metadata": {},
   "source": [
    ">gi|2765658|emb|Z78533.1|CIZ78533 C.irapeanum 5.8S rRNA gene and ITS1 and ITS2 DNA\n",
    "CGTAACAAGGTTTCCGTAGGTGAACCTGCGGAAGGATCATTGATGAGACCGTGGAATAAACGATCGAGTG\n",
    "AATCCGGAGGACCGGTGTACTCAGCTCACCGGGGGCATTGCTCCCGTGGTGACCCTGATTTGTTGTTGGG"
   ]
  },
  {
   "cell_type": "markdown",
   "metadata": {},
   "source": [
    "Fasta files are quite simple to read:\n",
    "* Generally, Fasta files begin with an information line, usually denoted with an \">\" symbole.\n",
    "* Stored sequence pertaining to that information line follows."
   ]
  },
  {
   "cell_type": "markdown",
   "metadata": {},
   "source": [
    "\n",
    "#### GenBank File Format\n",
    "GenBank, EMBL, and DDBJ offer a wide range of molecular sequence data. We will use GenBank to demonstrate how this sequence information is organized and how to access it.GenBank mainly deals with genomic DNA sequences, their theoretically transcribed pre-mRNA, mRNA products, and their translated protein sequences. GenBank provides this and more information regarding specific proteins sequences through the GenBank file format.\n",
    "\n",
    "GenBank uses a standardized file format to contain pertinent information for any given DNA sequence. The GenBank format helps keep information pertaining to a particular gene or protein relatively standard across platforms and help with ease of access. An offical description of each element in the format can be found [here](https://www.ncbi.nlm.nih.gov/Sitemap/samplerecord.html) at the NCBI's website.\n",
    "\n",
    "##### GenBank files look something like this:"
   ]
  },
  {
   "cell_type": "raw",
   "metadata": {},
   "source": [
    "LOCUS       SCU49845     5028 bp    DNA             PLN       21-JUN-1999\n",
    "DEFINITION  Saccharomyces cerevisiae TCP1-beta gene, partial cds, and Axl2p\n",
    "            (AXL2) and Rev7p (REV7) genes, complete cds.\n",
    "ACCESSION   U49845\n",
    "VERSION     U49845.1  GI:1293613\n",
    "KEYWORDS    .\n",
    "SOURCE      Saccharomyces cerevisiae (baker's yeast)\n",
    "  ORGANISM  Saccharomyces cerevisiae\n",
    "            Eukaryota; Fungi; Ascomycota; Saccharomycotina; Saccharomycetes;\n",
    "            Saccharomycetales; Saccharomycetaceae; Saccharomyces.\n",
    "REFERENCE   1  (bases 1 to 5028)\n",
    "  AUTHORS   Torpey,L.E., Gibbs,P.E., Nelson,J. and Lawrence,C.W.\n",
    "  TITLE     Cloning and sequence of REV7, a gene whose function is required for\n",
    "            DNA damage-induced mutagenesis in Saccharomyces cerevisiae\n",
    "  JOURNAL   Yeast 10 (11), 1503-1509 (1994)\n",
    "  PUBMED    7871890\n",
    "REFERENCE   2  (bases 1 to 5028)\n",
    "  AUTHORS   Roemer,T., Madden,K., Chang,J. and Snyder,M.\n",
    "  TITLE     Selection of axial growth sites in yeast requires Axl2p, a novel\n",
    "            plasma membrane glycoprotein\n",
    "  JOURNAL   Genes Dev. 10 (7), 777-793 (1996)\n",
    "  PUBMED    8846915\n",
    "REFERENCE   3  (bases 1 to 5028)\n",
    "  AUTHORS   Roemer,T.\n",
    "  TITLE     Direct Submission\n",
    "  JOURNAL   Submitted (22-FEB-1996) Terry Roemer, Biology, Yale University, New\n",
    "            Haven, CT, USA\n",
    "FEATURES             Location/Qualifiers\n",
    "     source          1..5028\n",
    "                     /organism=\"Saccharomyces cerevisiae\"\n",
    "                     /db_xref=\"taxon:4932\"\n",
    "                     /chromosome=\"IX\"\n",
    "                     /map=\"9\"\n",
    "     CDS             <1..206\n",
    "                     /codon_start=3\n",
    "                     /product=\"TCP1-beta\"\n",
    "                     /protein_id=\"AAA98665.1\"\n",
    "                     /db_xref=\"GI:1293614\"\n",
    "                     /translation=\"SSIYNGISTSGLDLNNGTIADMRQLGIVESYKLKRAVVSSASEA\n",
    "                     AEVLLRVDNIIRARPRTANRQHM\"\n",
    "     gene            687..3158\n",
    "                     /gene=\"AXL2\"\n",
    "     CDS             687..3158\n",
    "                     /gene=\"AXL2\"\n",
    "                     /note=\"plasma membrane glycoprotein\"\n",
    "                     /codon_start=1\n",
    "                     /function=\"required for axial budding pattern of S.\n",
    "                     cerevisiae\"\n",
    "                     /product=\"Axl2p\"\n",
    "                     /protein_id=\"AAA98666.1\"\n",
    "                     /db_xref=\"GI:1293615\"\n",
    "                     /translation=\"MTQLQISLLLTATISLLHLVVATPYEAYPIGKQYPPVARVNESF\n",
    "                     TFQISNDTYKSSVDKTAQITYNCFDLPSWLSFDSSSRTFSGEPSSDLLSDANTTLYFN\n",
    "                     VILEGTDSADSTSLNNTYQFVVTNRPSISLSSDFNLLALLKNYGYTNGKNALKLDPNE\n",
    "                     VFNVTFDRSMFTNEESIVSYYGRSQLYNAPLPNWLFFDSGELKFTGTAPVINSAIAPE\n",
    "                     TSYSFVIIATDIEGFSAVEVEFELVIGAHQLTTSIQNSLIINVTDTGNVSYDLPLNYV\n",
    "                     YLDDDPISSDKLGSINLLDAPDWVALDNATISGSVPDELLGKNSNPANFSVSIYDTYG\n",
    "                     DVIYFNFEVVSTTDLFAISSLPNINATRGEWFSYYFLPSQFTDYVNTNVSLEFTNSSQ\n",
    "                     DHDWVKFQSSNLTLAGEVPKNFDKLSLGLKANQGSQSQELYFNIIGMDSKITHSNHSA\n",
    "                     NATSTRSSHHSTSTSSYTSSTYTAKISSTSAAATSSAPAALPAANKTSSHNKKAVAIA\n",
    "                     CGVAIPLGVILVALICFLIFWRRRRENPDDENLPHAISGPDLNNPANKPNQENATPLN\n",
    "                     NPFDDDASSYDDTSIARRLAALNTLKLDNHSATESDISSVDEKRDSLSGMNTYNDQFQ\n",
    "                     SQSKEELLAKPPVQPPESPFFDPQNRSSSVYMDSEPAVNKSWRYTGNLSPVSDIVRDS\n",
    "                     YGSQKTVDTEKLFDLEAPEKEKRTSRDVTMSSLDPWNSNISPSPVRKSVTPSPYNVTK\n",
    "                     HRNRHLQNIQDSQSGKNGITPTTMSTSSSDDFVPVKDGENFCWVHSMEPDRRPSKKRL\n",
    "                     VDFSNKSNVNVGQVKDIHGRIPEML\"\n",
    "     gene            complement(3300..4037)\n",
    "                     /gene=\"REV7\"\n",
    "     CDS             complement(3300..4037)\n",
    "                     /gene=\"REV7\"\n",
    "                     /codon_start=1\n",
    "                     /product=\"Rev7p\"\n",
    "                     /protein_id=\"AAA98667.1\"\n",
    "                     /db_xref=\"GI:1293616\"\n",
    "                     /translation=\"MNRWVEKWLRVYLKCYINLILFYRNVYPPQSFDYTTYQSFNLPQ\n",
    "                     FVPINRHPALIDYIEELILDVLSKLTHVYRFSICIINKKNDLCIEKYVLDFSELQHVD\n",
    "                     KDDQIITETEVFDEFRSSLNSLIMHLEKLPKVNDDTITFEAVINAIELELGHKLDRNR\n",
    "                     RVDSLEEKAEIERDSNWVKCQEDENLPDNNGFQPPKIKLTSLVGSDVGPLIIHQFSEK\n",
    "                     LISGDDKILNGVYSQYEEGESIFGSLF\"\n",
    "ORIGIN\n",
    "        1 gatcctccat atacaacggt atctccacct caggtttaga tctcaacaac ggaaccattg\n",
    "       61 ccgacatgag acagttaggt atcgtcgaga gttacaagct aaaacgagca gtagtcagct\n",
    "      121 ctgcatctga agccgctgaa gttctactaa gggtggataa catcatccgt gcaagaccaa\n",
    "      181 gaaccgccaa tagacaacat atgtaacata tttaggatat acctcgaaaa taataaaccg\n",
    "      ...\n",
    "\n"
   ]
  },
  {
   "cell_type": "markdown",
   "metadata": {},
   "source": [
    "GenBank files appear vastly more complicated than FASTA files at an initial glance. However, FASTA files and GenBank files function quite similarly:\n",
    "* instead of a simple identification line denoted by the \">\" like in a FASTA file, Gene bank files can contain a fast amount of intial information pertaining to the gene of interest at the start of the file.\n",
    "* GenBank files can contain many features related to specific sequences within the file.\n",
    "* like FASTA files, GenBank files also contain the sequence information after the initial header.\n",
    "\n",
    "#### Using data from from FASTA and GenBank files\n",
    "\n",
    "Both GenBank and FASTA files store raw sequence data as well as some identifiers specific to those sequences. \n",
    "Biopython allows users to make novel FASTA and GenBank files with sequence data they'd like to store, and also allows users to pull data from existing files.\n",
    "This chapter will use the example fasta file from the biopython tutorial [here](https://raw.githubusercontent.com/biopython/biopython/master/Doc/examples/ls_orchid.fasta) into any text file program as \"ls_orchid.fasta\" to show how to retrieve data from such files. Download the file, and put it into the same location as that of the bioinformatics tutorial file.\n",
    "\n",
    "Using biopython, one can then extract sequence data from that file:"
   ]
  },
  {
   "cell_type": "code",
   "execution_count": null,
   "metadata": {},
   "outputs": [],
   "source": [
    "# This script uses \"parse\" to select the first entry in the FASTA file denoted by \">\" \n",
    "# and stores that information into \"record\"\n",
    "for record in SeqIO.parse(\"ls_orchid.fasta\", \"fasta\"):\n",
    "    \n",
    "    # then prints the record ID, the seqence in that record, and the length of the sequence\n",
    "    print(record.id)\n",
    "    print(repr(record.seq))\n",
    "    print(len(record))"
   ]
  },
  {
   "cell_type": "markdown",
   "metadata": {},
   "source": [
    "**As you can see above**, there are 94 individual records in the example FASTA file, and each displays their ID, sequence and length.\n",
    "\n",
    "Using biopython, we can also do the same thing with **GenBank files**, even with their extra layer of apparent complication compared to FASTA files. Simply download the example GenBank file availible in the biopython tutorial [here](https://raw.githubusercontent.com/biopython/biopython/master/Doc/examples/ls_orchid.gbk) into a text file as \"ls_orchid.gbk\". Make sure to put it into the same location as that of this bioinformatics platform file.\n",
    "\n",
    "Using similar code to that used above for the "
   ]
  },
  {
   "cell_type": "code",
   "execution_count": null,
   "metadata": {},
   "outputs": [],
   "source": [
    "# This script uses \"parse\" to select the first entry in the GenBank file, in this case the \"LOCUS\" line\n",
    "# and stores that information into \"record\"\n",
    "# (note with the file name you may have to add a .txt if using notepad, might not recognize the genbank file type)\n",
    "for record in SeqIO.parse(\"ls_orchid.gbk.txt\", \"genbank\"):\n",
    "    \n",
    "    # then prints the record ID, the seqence in that record, and the length of the sequence\n",
    "    print(record.id)\n",
    "    print(repr(record.seq))\n",
    "    print(len(record))"
   ]
  },
  {
   "cell_type": "markdown",
   "metadata": {},
   "source": [
    "### Conclusion for databases and file formats\n",
    "\n",
    "Overall, bioinformatics data is stored in large publically availible databases. These databases contain thousands of files that hold valueble biological data, and each database may specialize in different types of data and information. Each of these databases deals in standardized file formats that can be accessed remotely through bioinformatics software and read so as to be of use for bioinformatics scientists."
   ]
  },
  {
   "cell_type": "markdown",
   "metadata": {},
   "source": [
    "## Chapter 2 Translating DNA sequences into a protein sequences\n",
    "\n",
    "After clearning the contents of sequence databases such as GenBank and how their file formats are arranged, it is of interest to a biologist to pull data from these files and databanks and manipulate it.\n",
    "\n",
    "### The raw genetic code\n",
    "Using the previously used FASTA file, we can pull a DNA sequence from a record:"
   ]
  },
  {
   "cell_type": "code",
   "execution_count": null,
   "metadata": {},
   "outputs": [],
   "source": [
    "#in the case of wanting the information stored in the first record, add \"next\" before the file is read\n",
    "#this then stores that record in the variable \"first_record\"\n",
    "first_record = next(SeqIO.parse(\"ls_orchid.fasta\", \"fasta\"))\n",
    "\n",
    "#then reads out the sequence stored in the record using the \".seq\" function\n",
    "print(first_record.seq)"
   ]
  },
  {
   "cell_type": "markdown",
   "metadata": {},
   "source": [
    "The above example extracts the gene sequence from a fasta record. With this information, a biologist can do more than simply readout genetic sequences. Biopython offers ways of manipulating these types of information in a useful manner.\n",
    "\n",
    "### Transcription\n",
    "One way is to turn raw genetic sequences, such as the example above, and convert it into an RNA sequence to be later translated into a protein. In essence, biopython lets a biologist perform transcription, and translation, extremely conviniently.\n",
    "\n",
    "converting DNA into RNA is simple, and can be done as so:"
   ]
  },
  {
   "cell_type": "code",
   "execution_count": null,
   "metadata": {},
   "outputs": [],
   "source": [
    "#in the case of wanting the information stored in the first record, add \"next\" before the file is read\n",
    "#this then stores that record in the variable \"first_record\"\n",
    "first_record = next(SeqIO.parse(\"ls_orchid.fasta\", \"fasta\"))\n",
    "\n",
    "#then stores the sequence from that record into the variable \"gene_sequnece\",\n",
    "#gene_sequnce has the raw \"GCTA\" genetic code of the gene\n",
    "gene_sequence = first_record.seq\n",
    "\n",
    "#then use the biopython command \"transcribe\" to transcribe the sequence into RNA\n",
    "#the store this information into the variable mRNA_sequence, and display it:\n",
    "mRNA_sequence = gene_sequence.transcribe()\n",
    "print(mRNA_sequence)"
   ]
  },
  {
   "cell_type": "markdown",
   "metadata": {},
   "source": [
    "you'll notice now that instead of thymidine (T), the .transcribe() function replaces all thymidines with uracil, effectively making the sequence mRNA.\n",
    "\n",
    "### Translation\n",
    "then in regards to translating the sequence. There are a few tools offered to make working with translation relatively simple. Offered by the NCBI are translation codon tables, these being the triletter code for protein sequencing. The NCBI offers several different code tables to facilitate translations from organisms that use different codon tables.\n",
    "\n",
    "Tables such as these:"
   ]
  },
  {
   "cell_type": "code",
   "execution_count": null,
   "metadata": {},
   "outputs": [],
   "source": [
    "#fetching the codon table, denoted as the standard table form the NCBI\n",
    "#store the table, and display it using the \"standard_Code\" variable\n",
    "standard_code = CodonTable.unambiguous_dna_by_name[\"Standard\"]\n",
    "print(standard_code)"
   ]
  },
  {
   "cell_type": "markdown",
   "metadata": {},
   "source": [
    "Using tables such as these, one can then use commands that can translate RNA sequences.\n",
    "\n",
    "The code to perform a standard translation of the previously used gene from above is as follows:"
   ]
  },
  {
   "cell_type": "code",
   "execution_count": null,
   "metadata": {},
   "outputs": [],
   "source": [
    "#in the case of wanting the information stored in the first record, add \"next\" before the file is read\n",
    "#this then stores that record in the variable \"first_record\"\n",
    "first_record = next(SeqIO.parse(\"ls_orchid.fasta\", \"fasta\"))\n",
    "\n",
    "#then stores the sequence from that record into the variable \"gene_sequnece\",\n",
    "#gene_sequnce has the raw \"GCTA\" genetic code of the gene\n",
    "gene_sequence = first_record.seq\n",
    "\n",
    "#then use the biopython command \".transcribe()\" to transcribe the sequence into RNA\n",
    "#the store this information into the variable mRNA_sequence, and display it:\n",
    "RNA_sequence = gene_sequence.transcribe()\n",
    "\n",
    "#then use the biopython command \".translate()\" and for the sake of keeping track, specify the standard table in the translation\n",
    "pro_sequence = RNA_sequence.translate(table=1)\n",
    "print(pro_sequence)"
   ]
  },
  {
   "cell_type": "markdown",
   "metadata": {},
   "source": [
    "However, you should **get an error** if you do try to translate this sequence. Biopython will make note of the fact that the chosen sequence is not a multipule of three, and there may be an issue with matching a codon to some of the remaining nucleotides.\n",
    "\n",
    "However, it does give a translated sequence with the inputed RNA regardless."
   ]
  },
  {
   "cell_type": "markdown",
   "metadata": {},
   "source": [
    "## Chapter 3 Calculating Guanine-Cytosine Content\n",
    "\n",
    "As seen in previous chapters, an individual might use biopython to obtain key information from a sequence, and manipulate it. Aside from obtaining a translated form of a specific sequence, a biologist might also want to know the contents within that sequence.\n",
    "\n",
    "As an example of content a biologist might want to extract from a sequence, this example will use the percent of guanine and cytosine in a generic sequence file. We'll start by taking the first sequence used from the Fasta file availible [here](https://raw.githubusercontent.com/biopython/biopython/master/Doc/examples/ls_orchid.fasta) and storing it into a varible we can work with (as done in the previous chapter)."
   ]
  },
  {
   "cell_type": "code",
   "execution_count": null,
   "metadata": {},
   "outputs": [],
   "source": [
    "#in the case of wanting the information stored in the first record, add \"next\" before the file is read\n",
    "#this then stores that record in the variable \"first_record\"\n",
    "first_record = next(SeqIO.parse(\"ls_orchid.fasta\", \"fasta\"))\n",
    "\n",
    "#then reads out the sequence stores in the record using the \".seq\" function\n",
    "print(first_record.seq)"
   ]
  },
  {
   "cell_type": "markdown",
   "metadata": {},
   "source": [
    "However, instead of translating the sequence or reverse transcribing it, we will extract the GC content.\n",
    "There are many ways to write code to give you GC content and some of them can be tediously basic as is seen below:\n",
    "\n",
    "### The long way"
   ]
  },
  {
   "cell_type": "code",
   "execution_count": null,
   "metadata": {},
   "outputs": [],
   "source": [
    "#Convert the first_record sequence into a string\n",
    "first_sequence = str(first_record.seq)\n",
    "\n",
    "#then get the number of Gs and Cs in the form of integers and store them as such\n",
    "#also get the length of the sequnce\n",
    "sequence_length = len(first_sequence)\n",
    "G_count = first_sequence.count(\"G\")\n",
    "C_count = first_sequence.count(\"C\")\n",
    "\n",
    "#then store the calculated %G %C and %GCs into variables as strings\n",
    "G_content = (G_count/sequence_length)*100\n",
    "C_content = (C_count/sequence_length)*100\n",
    "GC_content = ((G_count + C_count)/sequence_length)*100\n",
    "\n",
    "#then print a clean statement telling these figures (rounding and converting the numbers to string)\n",
    "print(\"The guanine content is \" + str(round(G_content, 1)) + \"%, the cytosine content is \" + str(round(C_content, 1)) + \"%, and the guanine and cytosine content is \" + str(round(GC_content, 1)) + \"%.\")\n"
   ]
  },
  {
   "cell_type": "markdown",
   "metadata": {},
   "source": [
    "But this is rather tedious and a better method is offered by biopython in only a few lines of code:\n",
    "\n",
    "### The short way"
   ]
  },
  {
   "cell_type": "code",
   "execution_count": null,
   "metadata": {},
   "outputs": [],
   "source": [
    "#At the start of the work book we imported several imports\n",
    "#one of these was from the Bio.SeqUtils pack, and we will be using the \"GC\" import\n",
    "GC_content = GC(first_record.seq)\n",
    "\n",
    "#then say the content\n",
    "print(\"The guanine/cytosine count for this sequence is: \" + str(round(GC_content, 1)) + \"%.\")"
   ]
  },
  {
   "cell_type": "markdown",
   "metadata": {},
   "source": [
    "As you can see, this method is far quicker, but you should note the longer example should you wish to extract specific types of information from the sequence in question, such as the number of adenines in a given sequence, and its total composition.\n",
    "\n",
    "This also works for protein, in that you can single out desired amino acids from a sequence and figure out it's composition"
   ]
  },
  {
   "cell_type": "markdown",
   "metadata": {},
   "source": [
    "## Chapter 4 Pairwise Sequence Alignments Using Needleman and Waterman Algorithms\n",
    "One of the fundamental operations in bioinformatics is comparing two sequences, either nucleic acids or proteins, and line them up to archieve maximal levels of identity. This is called pairwise sequence alignment.\n",
    "Biopython also offers a variety of tools for an individual to compare two sequences to one another. The chapter will cover pariwise sequences alignments through two different types of algorithms: The Needleman and the Waterman Algorithms.\n",
    "\n",
    "Before covering the differences between these two algorithms it is worth mentioning what pariwise sequences alightments are. Basic pairwise alignments take two input sequences and compare them, in the goal of finding regions at which they align due to similarity. \n",
    "\n",
    " - There are global alignments which try to align the full length of the two sequences as closely as possible. The Needleman–Wunsch algorithm is designed for these type of scenarios, in which the entire protein sequence is aligned to the other.\n",
    "\n",
    " - There are also local alignments where regions of a sequences might be aligned for similarity. This method is typically used in the interest of aligning similar regions of a protein sequence, but not necessarily the entire sequence. The Smith–Waterman algorithm is an example of such a system, it finds these regions of possible similarity from within two input sequences.\n",
    "\n",
    "Biopython offers the ability to do both, in that one can use pairwise sequence alignments using a global and local alignment Algorithm.\n",
    "\n",
    "### Global Alignments\n",
    "In the interest of showing an example of using a global pairwise alignment, the biopython code found below compares two proteins sequences. Typically when dealing with global alignments, one should compare two seqences of similar length.\n",
    "In this case, we shall use the sequences of alpha and beta hemoglobin, both of which can be found [here](https://www.uniprot.org/uniprot/P69905.fasta) for alpha hemoglobin, and [here](https://www.uniprot.org/uniprot/P68871.fasta) for beta. Store these sequences in the same file location as the workbook.\n"
   ]
  },
  {
   "cell_type": "code",
   "execution_count": null,
   "metadata": {},
   "outputs": [],
   "source": [
    "#first to use two example protein sequences\n",
    "#both should be titled \"alpha.fasta\" and \"beta.fasta\" respectively   \n",
    "alpha = SeqIO.read(\"alpha.fasta\", \"fasta\")\n",
    "beta = SeqIO.read(\"beta.fasta\", \"fasta\")\n",
    "\n",
    "#then throw these sequences into the aligner\n",
    "#note, PAIRWISE2 command uses Needleman and Waterman for global and local alignments unless otherwise specified\n",
    "alignments = pairwise2.align.globalxx(alpha.seq, beta.seq)\n",
    "\n",
    "#then give a graphical display of the alignment\n",
    "print(pairwise2.format_alignment(*alignments[0]))"
   ]
  },
  {
   "cell_type": "markdown",
   "metadata": {},
   "source": [
    "Note that it also displays the score of the aligned sequence, as per the Needleman–Wunsch algorithm.\n",
    "\n",
    "### Local Alignments\n",
    "In the interest of showing an example of using a local pairwise alignment, the biopython code found below compares a full length protein sequence, and a single snipit of a protein sequence region. Local alignments can be used not only to compare full length sequence, but small regions within a protein sequence of interest.\n",
    "In this case, we shall use the sequence of alpha hemoglobin again, which can be found [here](https://www.uniprot.org/uniprot/P69905.fasta) for alpha hemoglobin, and the small snipit will be added as code within the work book."
   ]
  },
  {
   "cell_type": "code",
   "execution_count": null,
   "metadata": {},
   "outputs": [],
   "source": [
    "#first to use two example protein sequences\n",
    "alpha = SeqIO.read(\"alpha.fasta\", \"fasta\")\n",
    "snipit = \"AQVKGH\"\n",
    "\n",
    "#next to throw these two sequences into the aligner\n",
    "#note, PAIRWISE2 command uses Needleman and Waterman for global and local alignments unless otherwise specified\n",
    "alignments = pairwise2.align.localxx(alpha.seq, snipit)\n",
    "\n",
    "#then give a graphical display of the alignment\n",
    "print(pairwise2.format_alignment(*alignments[0]))"
   ]
  },
  {
   "cell_type": "markdown",
   "metadata": {},
   "source": [
    "Note that it also displays the score of the aligned sequence, as per the Smith–Waterman algorithm.\n",
    "However, in this case you can see that the result is not... the most accurate. This is due to the gap penalty.\n",
    "Some other metrices give higher penalties for gaps than others in order to give alignments a more faithful match.\n",
    "\n",
    "This brings us to substitution matrices:"
   ]
  },
  {
   "cell_type": "markdown",
   "metadata": {},
   "source": [
    "## Chapter 5 Substitution Matrices\n",
    "One of the fundamental operations in bioinformatics is comparing two sequences, either nucleic acids or proteins, and line them up to archieve maximal levels of identity. This is called _**pairwise sequence alignment**_. Quantification of the similarity of the two sequences is important for establishing whether they are homologs. There are two widely used methods developed to quantify the similarity.\n",
    "\n",
    "- Method 1: align closely related homologs and count the frequencies of amino acid substitutions.\n",
    "- Method 2: use a database of aligned sequences derived from protein domains that have a particular structure or function. The frequencies of amino acid substitutions are recorded.\n",
    "\n",
    "These two methods gave rise to the *PAM* and *BLOSUM* series of amino acid substitution matrices, respectively. These substitution matrices are used in many sequence alignment tools.\n",
    "\n",
    "The *Biopython* package includes these substitution matrices."
   ]
  },
  {
   "cell_type": "code",
   "execution_count": null,
   "metadata": {},
   "outputs": [],
   "source": [
    "# this scriptlet display BLOSUM62 and PAM250 matrices\n",
    "from Bio.Align import substitution_matrices as smatrices\n",
    "blosum62 = smatrices.load(\"BLOSUM62\")\n",
    "pam250 = smatrices.load(\"PAM250\")\n",
    "print(blosum62)\n",
    "print(\"-\"*80)\n",
    "print(pam250)"
   ]
  },
  {
   "cell_type": "markdown",
   "metadata": {},
   "source": [
    "### Using Substitution Matrices\n",
    "Using the aforementioned pairwise alignment tools and substitution matrices offered by biopython, one can make global and local sequence alignments far more accurate and suited to a specific need.\n",
    "\n",
    "Using the previously used pairwise global alignment code, we can now specify which substitution matrix we want the alignment algorithm to use:"
   ]
  },
  {
   "cell_type": "code",
   "execution_count": null,
   "metadata": {},
   "outputs": [],
   "source": [
    "#load the needed substitution matrices needed for alignments\n",
    "blosum62 = smatrices.load(\"BLOSUM62\")\n",
    "\n",
    "#first to use two example protein sequences\n",
    "#both should be titled \"alpha.fasta\" and \"beta.fasta\" respectively\n",
    "alpha = SeqIO.read(\"alpha.fasta\", \"fasta\")\n",
    "beta = SeqIO.read(\"beta.fasta\", \"fasta\")\n",
    "\n",
    "#then throw these sequences into the aligner\n",
    "#note, PAIRWISE2 command uses Needleman and Waterman for global and local alignments unless otherwise specified\n",
    "#in this case we can specify that we want to use the BLOSUM62 matrix\n",
    "alignments = pairwise2.align.globalds(alpha.seq, beta.seq, blosum62, -10, -0.5)\n",
    "\n",
    "#then give a graphical display of the alignment\n",
    "print(pairwise2.format_alignment(*alignments[0]))"
   ]
  },
  {
   "cell_type": "markdown",
   "metadata": {},
   "source": [
    "Note that this gives an alignment according to the BLOSUM62 matrix.\n",
    "\n",
    "This also works for local alignments:"
   ]
  },
  {
   "cell_type": "code",
   "execution_count": null,
   "metadata": {},
   "outputs": [],
   "source": [
    "#load the needed substitution matrices needed for alignments\n",
    "blosum62 = smatrices.load(\"BLOSUM62\")\n",
    "\n",
    "#first to use two example protein sequences\n",
    "alpha = SeqIO.read(\"alpha.fasta\", \"fasta\")\n",
    "snipit = \"AQVKGH\"\n",
    "\n",
    "#then throw these sequences into the aligner\n",
    "#note, PAIRWISE2 command uses Needleman and Waterman for global and local alignments unless otherwise specified\n",
    "#in this case we can specify that we want to use the BLOSUM62 matrix\n",
    "alignments = pairwise2.align.localds(alpha.seq, snipit, blosum62, -10, -0.5)\n",
    "\n",
    "#then give a graphical display of the alignment\n",
    "print(pairwise2.format_alignment(*alignments[0]))"
   ]
  },
  {
   "cell_type": "markdown",
   "metadata": {},
   "source": [
    "Using this matrix, unlike having used the local alignment alone, greatly improved the accuracy of the alignment. This largely a result of putting a penalty on gaps within a sequence of interest."
   ]
  },
  {
   "cell_type": "markdown",
   "metadata": {},
   "source": [
    "## Chapter 6 BLAST\n",
    "BLAST is an acronyme standing fro basic local alignment search tool. BLAST allows a user to search the NCBI's databases for a matching sequence to an input DNA, RNA, or protein sequence of interest.\n",
    "There are multiples BLAST offered tools to search for each of these different types of primary sequence data:\n",
    "- BLASTn, for nucleotide sequences\n",
    "- BLASTp, for protein sequences\n",
    "- BLASTx, for potential translation products of a nucleotie sequence\n",
    "- tBLAST, for comparing a protein sequence to matching nucleotide sequences\n",
    "- tBLASTx, for comparing a translated nucleotide sequence to a protein sequence database\n",
    "These tools might be of use to a biologist who's trying to figure out the fucntion of their novel gene, or who wishs to understand distantly related genes to the sequence of interest. It can also server to understand and gather more information about what purpose that sequence likely serves.\n",
    "\n",
    "### How to do a BLAST search\n",
    "To compare your sequence of interest to the NCBI database through BLAST, first you'll need the sequence of interest as a string (plain letters), a fasta file, or the sequence identifier.\n",
    "In this case we will be performing a BLASTp search using the previously used alpha hemoglobin fasta file found [here](https://www.uniprot.org/uniprot/P69905.fasta)."
   ]
  },
  {
   "cell_type": "code",
   "execution_count": null,
   "metadata": {},
   "outputs": [],
   "source": [
    "#First get the alpha hemoglobin file and store it in \"record\"\n",
    "record = SeqIO.read(\"alpha.fasta\", \"fasta\")\n",
    "\n",
    "#Then perform the search on the NCBI database through blast with the sequence of interest\n",
    "blast_results = NCBIWWW.qblast(\"blastp\", \"nr\", record.seq)\n",
    "\n",
    "#then read out the results of the search\n",
    "blast_records = NCBIXML.parse(blast_results)\n",
    "blast_record = next(blast_records)"
   ]
  },
  {
   "cell_type": "markdown",
   "metadata": {},
   "source": [
    "Searches on BLAST and NCBI might take a while to do, so remember to be patient. Hemoglobin proteins have been thoroughly studied and as a result will have a lot of matching entries listed in regards to them.\n",
    "\n",
    "However, once the search result returnes they contain very useful information. Interpreting this information is essential to understanding the utility of BLAST searches.\n",
    "\n",
    "### The E value and BLAST results\n",
    "Of note when conducting BLAST searches is the E value. The E value is a variable that in the simplist of sense tells you how close a result matches your quary. To reiterate, BLAST searches the NCBI's databases to find likely matches to the input sequence. Initially, the expected E value is the number of hits a search might get by chance by being entered into the database. However, that number exponentially decreases as the score of the matched sequence increases. \n",
    "\n",
    "Generally, the lower the E value, the better the matching result."
   ]
  },
  {
   "cell_type": "code",
   "execution_count": null,
   "metadata": {},
   "outputs": [],
   "source": [
    "#set a maximum E value so as to screen out any background noise in the seach results\n",
    "E_VALUE_THRESH = 0.04\n",
    "\n",
    "#then cycle through the various results obtained in the search, and print information pertaining to them:\n",
    "for alignment in blast_record.alignments:\n",
    "    for hsp in alignment.hsps:\n",
    "        if hsp.expect < E_VALUE_THRESH:\n",
    "            print(\"****Alignment****\")\n",
    "            print(\"sequence:\", alignment.title)\n",
    "            print(\"length:\", alignment.length)\n",
    "            print(\"e value:\", hsp.expect)\n",
    "            print(hsp.query[0:75] + \"...\")\n",
    "            print(hsp.match[0:75] + \"...\")\n",
    "            print(hsp.sbjct[0:75] + \"...\")"
   ]
  },
  {
   "cell_type": "markdown",
   "metadata": {},
   "source": [
    "Once the search is complete it should return a wealth of information. From some of this information, you should be able to gather the E value for each entry in the database. As hemoglobin is a short protein sequence, and has been thoroughly sequenced, most of the returns have an especially low E value indicating that the results closely match the input sequence. \n",
    "\n",
    "But an individual might gather more than simply the E value of their search from running their sequence through BLAST. The matching sequences, lengths and information pertaining to these results can also be gathered. Furthermore, an indivudual might also gather the pbd ID code for the 3D strucutre of the desired protein from conducting a BLAST search so as to run it through NGLViewer, as shown below."
   ]
  },
  {
   "cell_type": "markdown",
   "metadata": {},
   "source": [
    "## Chapter 7 Molecular Graphics\n",
    "\n",
    "In this section, we use NGLView to display a structure of interest.\n",
    "\n",
    "Below is a textbox where the protein data base code pertaining to a protein of interest might be entered.\n",
    "Once entered, the code accesses 3D rendering information for the protein.\n",
    "Usually this structural information has been initially gathered using x-ray chrystalography."
   ]
  },
  {
   "cell_type": "code",
   "execution_count": null,
   "metadata": {
    "scrolled": true
   },
   "outputs": [],
   "source": [
    "#In this block, the user will be prompted to enter the name of the pdb code that they would like to look at.\n",
    "text_box = str(input(\"Please enter the PDB code of the structure: \"))"
   ]
  },
  {
   "cell_type": "code",
   "execution_count": null,
   "metadata": {},
   "outputs": [],
   "source": [
    "# we minic the folder structure of PDB database and save the pdf file in the corresponding folder.\n",
    "first_pdb_file = PDBList()\n",
    "name = first_pdb_file.retrieve_pdb_file(text_box)\n",
    "protein_file = \"\"\n",
    "last_value = -1\n",
    "print(name[-2])\n",
    "\n",
    "if (platform.system() == 'Windows'):\n",
    "    while (name[last_value] != '\\\\'):\n",
    "        protein_file += name[last_value] #Each of the letters is added to the protein_name string, starting from the last letter.\n",
    "        #The value of last_value (which is supposed to immitate the index) is reduced by one, and since it's negative, the constantly decreasing value goes towards the beginning of the string.\n",
    "        last_value -= 1 \n",
    "\n",
    "else:\n",
    "    while (name[last_value] != '/'):\n",
    "        protein_file += name[last_value] #Each of the letters is added to the protein_name string, starting from the last letter.\n",
    "        #The value of last_value (which is supposed to immitate the index) is reduced by one, and since it's negative, the constantly decreasing value goes towards the beginning of the string.\n",
    "        last_value -= 1 \n",
    "\n",
    "protein_file = protein_file[::-1] #The protein name is reversed, to get a proper pdb file format.\n",
    "\n",
    "protein_name = \"\"\n",
    "\n",
    "index = 0\n",
    "while(protein_file[index] != '.'):\n",
    "    protein_name += protein_file[index]\n",
    "    index += 1\n",
    "\n",
    "protein_name = protein_name.upper()\n",
    "print(\"The name of the protein is, \" + protein_file)"
   ]
  },
  {
   "cell_type": "code",
   "execution_count": null,
   "metadata": {},
   "outputs": [],
   "source": [
    "protein_class = str(protein_file[1]) + str(protein_file[2])\n",
    "\n",
    "#We create an instance of the MMCIF Parser, to load the protein file.\n",
    "parser = MMCIFParser()\n",
    "\n",
    "path = os.path.join(protein_class, protein_file)\n",
    "structure = parser.get_structure(protein_name, path)\n",
    "path = os.path.join(protein_class, protein_file)\n",
    "structure = parser.get_structure(protein_name, path)"
   ]
  },
  {
   "cell_type": "code",
   "execution_count": null,
   "metadata": {},
   "outputs": [],
   "source": [
    "\n",
    "def clean_protein(obj):\n",
    "    print(', '.join([a for a in dir(obj) if not a.startswith('_')]))\n",
    "    \n",
    "clean_protein(structure)"
   ]
  },
  {
   "cell_type": "code",
   "execution_count": null,
   "metadata": {},
   "outputs": [],
   "source": [
    "view_one = nv.show_biopython(structure)\n",
    "view_one"
   ]
  },
  {
   "cell_type": "code",
   "execution_count": null,
   "metadata": {},
   "outputs": [],
   "source": [
    "view_two = nv.show_biopython(structure)\n",
    "view_two.add_ball_and_stick()\n",
    "view_two"
   ]
  },
  {
   "cell_type": "code",
   "execution_count": null,
   "metadata": {},
   "outputs": [],
   "source": [
    "# clean up the folder if neccessary\n",
    "os.remove(path) #Removes the file after the user is done looking at the protein.\n",
    "os.rmdir(protein_class)"
   ]
  },
  {
   "cell_type": "code",
   "execution_count": null,
   "metadata": {},
   "outputs": [],
   "source": []
  }
 ],
 "metadata": {
  "kernelspec": {
   "display_name": "Python 3",
   "language": "python",
   "name": "python3"
  },
  "language_info": {
   "codemirror_mode": {
    "name": "ipython",
    "version": 3
   },
   "file_extension": ".py",
   "mimetype": "text/x-python",
   "name": "python",
   "nbconvert_exporter": "python",
   "pygments_lexer": "ipython3",
   "version": "3.9.1"
  }
 },
 "nbformat": 4,
 "nbformat_minor": 4
}
